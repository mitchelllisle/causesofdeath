{
 "cells": [
  {
   "cell_type": "markdown",
   "metadata": {},
   "source": [
    "## About this dataset\n",
    "- This publication contains statistics on causes of death for Australia, together with selected statistics on perinatal deaths. \n",
    "- In order to complete a death registration, the death must be certified by either a doctor using the Medical Certificate of Cause of Death, or by a coroner. In 2017, 88.1% of deaths were certified by a doctor. The remaining 11.9% were certified by a coroner. "
   ]
  },
  {
   "cell_type": "code",
   "execution_count": 205,
   "metadata": {},
   "outputs": [],
   "source": [
    "import pandas as pd\n",
    "import altair as alt\n",
    "import martha as mh"
   ]
  },
  {
   "cell_type": "code",
   "execution_count": 206,
   "metadata": {},
   "outputs": [
    {
     "data": {
      "text/html": [
       "<div>\n",
       "<style scoped>\n",
       "    .dataframe tbody tr th:only-of-type {\n",
       "        vertical-align: middle;\n",
       "    }\n",
       "\n",
       "    .dataframe tbody tr th {\n",
       "        vertical-align: top;\n",
       "    }\n",
       "\n",
       "    .dataframe thead th {\n",
       "        text-align: right;\n",
       "    }\n",
       "</style>\n",
       "<table border=\"1\" class=\"dataframe\">\n",
       "  <thead>\n",
       "    <tr style=\"text-align: right;\">\n",
       "      <th></th>\n",
       "      <th>cause_of_death</th>\n",
       "      <th>chapter</th>\n",
       "      <th>category</th>\n",
       "      <th>2008_Males</th>\n",
       "      <th>2008_Females</th>\n",
       "      <th>2008_Persons</th>\n",
       "      <th>2009_Males</th>\n",
       "      <th>2009_Females</th>\n",
       "      <th>2009_Persons</th>\n",
       "      <th>2010_Males</th>\n",
       "      <th>...</th>\n",
       "      <th>2014_Persons</th>\n",
       "      <th>2015_Males</th>\n",
       "      <th>2015_Females</th>\n",
       "      <th>2015_Persons</th>\n",
       "      <th>2016_Males</th>\n",
       "      <th>2016_Females</th>\n",
       "      <th>2016_Persons</th>\n",
       "      <th>2017_Males</th>\n",
       "      <th>2017_Females</th>\n",
       "      <th>2017_Persons</th>\n",
       "    </tr>\n",
       "  </thead>\n",
       "  <tbody>\n",
       "    <tr>\n",
       "      <th>0</th>\n",
       "      <td>Intestinal infectious diseases</td>\n",
       "      <td>CHAPTER I Certain infectious and parasitic dis...</td>\n",
       "      <td>A00-A09</td>\n",
       "      <td>23</td>\n",
       "      <td>45</td>\n",
       "      <td>68</td>\n",
       "      <td>29</td>\n",
       "      <td>52</td>\n",
       "      <td>81</td>\n",
       "      <td>34</td>\n",
       "      <td>...</td>\n",
       "      <td>274</td>\n",
       "      <td>103</td>\n",
       "      <td>191</td>\n",
       "      <td>294</td>\n",
       "      <td>111</td>\n",
       "      <td>160</td>\n",
       "      <td>271</td>\n",
       "      <td>124</td>\n",
       "      <td>197</td>\n",
       "      <td>321</td>\n",
       "    </tr>\n",
       "    <tr>\n",
       "      <th>1</th>\n",
       "      <td>Cholera</td>\n",
       "      <td>CHAPTER I Certain infectious and parasitic dis...</td>\n",
       "      <td>A00</td>\n",
       "      <td>0</td>\n",
       "      <td>0</td>\n",
       "      <td>0</td>\n",
       "      <td>0</td>\n",
       "      <td>1</td>\n",
       "      <td>1</td>\n",
       "      <td>0</td>\n",
       "      <td>...</td>\n",
       "      <td>0</td>\n",
       "      <td>0</td>\n",
       "      <td>0</td>\n",
       "      <td>0</td>\n",
       "      <td>0</td>\n",
       "      <td>0</td>\n",
       "      <td>0</td>\n",
       "      <td>0</td>\n",
       "      <td>0</td>\n",
       "      <td>0</td>\n",
       "    </tr>\n",
       "    <tr>\n",
       "      <th>2</th>\n",
       "      <td>Typhoid and paratyphoid fevers</td>\n",
       "      <td>CHAPTER I Certain infectious and parasitic dis...</td>\n",
       "      <td>A01</td>\n",
       "      <td>0</td>\n",
       "      <td>0</td>\n",
       "      <td>0</td>\n",
       "      <td>0</td>\n",
       "      <td>0</td>\n",
       "      <td>0</td>\n",
       "      <td>0</td>\n",
       "      <td>...</td>\n",
       "      <td>0</td>\n",
       "      <td>0</td>\n",
       "      <td>0</td>\n",
       "      <td>0</td>\n",
       "      <td>0</td>\n",
       "      <td>1</td>\n",
       "      <td>1</td>\n",
       "      <td>0</td>\n",
       "      <td>0</td>\n",
       "      <td>0</td>\n",
       "    </tr>\n",
       "    <tr>\n",
       "      <th>3</th>\n",
       "      <td>Other salmonella infections</td>\n",
       "      <td>CHAPTER I Certain infectious and parasitic dis...</td>\n",
       "      <td>A02</td>\n",
       "      <td>4</td>\n",
       "      <td>2</td>\n",
       "      <td>6</td>\n",
       "      <td>5</td>\n",
       "      <td>3</td>\n",
       "      <td>8</td>\n",
       "      <td>4</td>\n",
       "      <td>...</td>\n",
       "      <td>10</td>\n",
       "      <td>12</td>\n",
       "      <td>5</td>\n",
       "      <td>17</td>\n",
       "      <td>5</td>\n",
       "      <td>1</td>\n",
       "      <td>6</td>\n",
       "      <td>0</td>\n",
       "      <td>6</td>\n",
       "      <td>6</td>\n",
       "    </tr>\n",
       "    <tr>\n",
       "      <th>4</th>\n",
       "      <td>Shigellosis</td>\n",
       "      <td>CHAPTER I Certain infectious and parasitic dis...</td>\n",
       "      <td>A03</td>\n",
       "      <td>0</td>\n",
       "      <td>0</td>\n",
       "      <td>0</td>\n",
       "      <td>0</td>\n",
       "      <td>0</td>\n",
       "      <td>0</td>\n",
       "      <td>0</td>\n",
       "      <td>...</td>\n",
       "      <td>0</td>\n",
       "      <td>0</td>\n",
       "      <td>0</td>\n",
       "      <td>0</td>\n",
       "      <td>0</td>\n",
       "      <td>0</td>\n",
       "      <td>0</td>\n",
       "      <td>0</td>\n",
       "      <td>0</td>\n",
       "      <td>0</td>\n",
       "    </tr>\n",
       "  </tbody>\n",
       "</table>\n",
       "<p>5 rows × 33 columns</p>\n",
       "</div>"
      ],
      "text/plain": [
       "                   cause_of_death  \\\n",
       "0  Intestinal infectious diseases   \n",
       "1                         Cholera   \n",
       "2  Typhoid and paratyphoid fevers   \n",
       "3     Other salmonella infections   \n",
       "4                     Shigellosis   \n",
       "\n",
       "                                             chapter category 2008_Males  \\\n",
       "0  CHAPTER I Certain infectious and parasitic dis...  A00-A09         23   \n",
       "1  CHAPTER I Certain infectious and parasitic dis...      A00          0   \n",
       "2  CHAPTER I Certain infectious and parasitic dis...      A01          0   \n",
       "3  CHAPTER I Certain infectious and parasitic dis...      A02          4   \n",
       "4  CHAPTER I Certain infectious and parasitic dis...      A03          0   \n",
       "\n",
       "  2008_Females 2008_Persons 2009_Males 2009_Females 2009_Persons 2010_Males  \\\n",
       "0           45           68         29           52           81         34   \n",
       "1            0            0          0            1            1          0   \n",
       "2            0            0          0            0            0          0   \n",
       "3            2            6          5            3            8          4   \n",
       "4            0            0          0            0            0          0   \n",
       "\n",
       "      ...      2014_Persons 2015_Males 2015_Females 2015_Persons 2016_Males  \\\n",
       "0     ...               274        103          191          294        111   \n",
       "1     ...                 0          0            0            0          0   \n",
       "2     ...                 0          0            0            0          0   \n",
       "3     ...                10         12            5           17          5   \n",
       "4     ...                 0          0            0            0          0   \n",
       "\n",
       "  2016_Females 2016_Persons 2017_Males 2017_Females 2017_Persons  \n",
       "0          160          271        124          197          321  \n",
       "1            0            0          0            0            0  \n",
       "2            1            1          0            0            0  \n",
       "3            1            6          0            6            6  \n",
       "4            0            0          0            0            0  \n",
       "\n",
       "[5 rows x 33 columns]"
      ]
     },
     "execution_count": 206,
     "metadata": {},
     "output_type": "execute_result"
    }
   ],
   "source": [
    "data = pd.read_csv(\"core/data/public/causes_of_death_2008-2011.csv\")\n",
    "data.head()"
   ]
  },
  {
   "cell_type": "code",
   "execution_count": 207,
   "metadata": {},
   "outputs": [
    {
     "data": {
      "text/html": [
       "<div>\n",
       "<style scoped>\n",
       "    .dataframe tbody tr th:only-of-type {\n",
       "        vertical-align: middle;\n",
       "    }\n",
       "\n",
       "    .dataframe tbody tr th {\n",
       "        vertical-align: top;\n",
       "    }\n",
       "\n",
       "    .dataframe thead th {\n",
       "        text-align: right;\n",
       "    }\n",
       "</style>\n",
       "<table border=\"1\" class=\"dataframe\">\n",
       "  <thead>\n",
       "    <tr style=\"text-align: right;\">\n",
       "      <th></th>\n",
       "      <th>cause_of_death</th>\n",
       "      <th>chapter</th>\n",
       "      <th>count</th>\n",
       "      <th>year</th>\n",
       "      <th>sex</th>\n",
       "    </tr>\n",
       "  </thead>\n",
       "  <tbody>\n",
       "    <tr>\n",
       "      <th>0</th>\n",
       "      <td>Intestinal infectious diseases</td>\n",
       "      <td>CHAPTER I Certain infectious and parasitic dis...</td>\n",
       "      <td>23</td>\n",
       "      <td>2008</td>\n",
       "      <td>Males</td>\n",
       "    </tr>\n",
       "    <tr>\n",
       "      <th>1</th>\n",
       "      <td>Cholera</td>\n",
       "      <td>CHAPTER I Certain infectious and parasitic dis...</td>\n",
       "      <td>0</td>\n",
       "      <td>2008</td>\n",
       "      <td>Males</td>\n",
       "    </tr>\n",
       "    <tr>\n",
       "      <th>2</th>\n",
       "      <td>Typhoid and paratyphoid fevers</td>\n",
       "      <td>CHAPTER I Certain infectious and parasitic dis...</td>\n",
       "      <td>0</td>\n",
       "      <td>2008</td>\n",
       "      <td>Males</td>\n",
       "    </tr>\n",
       "    <tr>\n",
       "      <th>3</th>\n",
       "      <td>Other salmonella infections</td>\n",
       "      <td>CHAPTER I Certain infectious and parasitic dis...</td>\n",
       "      <td>4</td>\n",
       "      <td>2008</td>\n",
       "      <td>Males</td>\n",
       "    </tr>\n",
       "    <tr>\n",
       "      <th>4</th>\n",
       "      <td>Shigellosis</td>\n",
       "      <td>CHAPTER I Certain infectious and parasitic dis...</td>\n",
       "      <td>0</td>\n",
       "      <td>2008</td>\n",
       "      <td>Males</td>\n",
       "    </tr>\n",
       "  </tbody>\n",
       "</table>\n",
       "</div>"
      ],
      "text/plain": [
       "                   cause_of_death  \\\n",
       "0  Intestinal infectious diseases   \n",
       "1                         Cholera   \n",
       "2  Typhoid and paratyphoid fevers   \n",
       "3     Other salmonella infections   \n",
       "4                     Shigellosis   \n",
       "\n",
       "                                             chapter  count  year    sex  \n",
       "0  CHAPTER I Certain infectious and parasitic dis...     23  2008  Males  \n",
       "1  CHAPTER I Certain infectious and parasitic dis...      0  2008  Males  \n",
       "2  CHAPTER I Certain infectious and parasitic dis...      0  2008  Males  \n",
       "3  CHAPTER I Certain infectious and parasitic dis...      4  2008  Males  \n",
       "4  CHAPTER I Certain infectious and parasitic dis...      0  2008  Males  "
      ]
     },
     "execution_count": 207,
     "metadata": {},
     "output_type": "execute_result"
    }
   ],
   "source": [
    "data_tidy = data.melt([\"cause_of_death\", \"chapter\", \"category\"], var_name=\"year_sex\", value_name=\"count\")\n",
    "data_tidy['year'] = data_tidy['year_sex'].map(lambda x: x.split(\"_\")[0])\n",
    "data_tidy['sex'] = data_tidy['year_sex'].map(lambda x: x.split(\"_\")[1])\n",
    "data_tidy = data_tidy.drop(columns=[\"year_sex\", \"category\"])\n",
    "\n",
    "# Convert count to an Integer\n",
    "data_tidy['count'] = data_tidy['count'].map(lambda x: int(x.replace(\",\",\"\")))\n",
    "\n",
    "# Remove 'persons' as we can calculate this manually if need be\n",
    "data_tidy = data_tidy[data_tidy['sex'].isin(['Males', 'Females'])]\n",
    "\n",
    "data_tidy.head()"
   ]
  },
  {
   "cell_type": "code",
   "execution_count": 208,
   "metadata": {},
   "outputs": [
    {
     "data": {
      "text/html": [
       "<div>\n",
       "<style scoped>\n",
       "    .dataframe tbody tr th:only-of-type {\n",
       "        vertical-align: middle;\n",
       "    }\n",
       "\n",
       "    .dataframe tbody tr th {\n",
       "        vertical-align: top;\n",
       "    }\n",
       "\n",
       "    .dataframe thead th {\n",
       "        text-align: right;\n",
       "    }\n",
       "</style>\n",
       "<table border=\"1\" class=\"dataframe\">\n",
       "  <thead>\n",
       "    <tr style=\"text-align: right;\">\n",
       "      <th></th>\n",
       "      <th>metric</th>\n",
       "    </tr>\n",
       "  </thead>\n",
       "  <tbody>\n",
       "    <tr>\n",
       "      <th>Total Number of Rows</th>\n",
       "      <td>38460</td>\n",
       "    </tr>\n",
       "    <tr>\n",
       "      <th>Total Number of Columns</th>\n",
       "      <td>5</td>\n",
       "    </tr>\n",
       "    <tr>\n",
       "      <th>Numeric</th>\n",
       "      <td>1</td>\n",
       "    </tr>\n",
       "    <tr>\n",
       "      <th>String</th>\n",
       "      <td>4</td>\n",
       "    </tr>\n",
       "    <tr>\n",
       "      <th>Date</th>\n",
       "      <td>0</td>\n",
       "    </tr>\n",
       "    <tr>\n",
       "      <th>Total Size in Memory</th>\n",
       "      <td>12M</td>\n",
       "    </tr>\n",
       "    <tr>\n",
       "      <th>Total Missing %</th>\n",
       "      <td>0%</td>\n",
       "    </tr>\n",
       "  </tbody>\n",
       "</table>\n",
       "</div>"
      ],
      "text/plain": [
       "                        metric\n",
       "Total Number of Rows     38460\n",
       "Total Number of Columns      5\n",
       "Numeric                      1\n",
       "String                       4\n",
       "Date                         0\n",
       "Total Size in Memory       12M\n",
       "Total Missing %             0%"
      ]
     },
     "execution_count": 208,
     "metadata": {},
     "output_type": "execute_result"
    }
   ],
   "source": [
    "mh.summary(data_tidy)"
   ]
  },
  {
   "cell_type": "code",
   "execution_count": 209,
   "metadata": {},
   "outputs": [
    {
     "data": {
      "text/html": [
       "<div>\n",
       "<style scoped>\n",
       "    .dataframe tbody tr th:only-of-type {\n",
       "        vertical-align: middle;\n",
       "    }\n",
       "\n",
       "    .dataframe tbody tr th {\n",
       "        vertical-align: top;\n",
       "    }\n",
       "\n",
       "    .dataframe thead th {\n",
       "        text-align: right;\n",
       "    }\n",
       "</style>\n",
       "<table border=\"1\" class=\"dataframe\">\n",
       "  <thead>\n",
       "    <tr style=\"text-align: right;\">\n",
       "      <th></th>\n",
       "      <th>dataTypes</th>\n",
       "      <th>totalValues</th>\n",
       "      <th>uniqueValues</th>\n",
       "      <th>missingValues</th>\n",
       "      <th>missingPercent</th>\n",
       "      <th>uniquePercent</th>\n",
       "      <th>topRecurringValues</th>\n",
       "    </tr>\n",
       "  </thead>\n",
       "  <tbody>\n",
       "    <tr>\n",
       "      <th>cause_of_death</th>\n",
       "      <td>object</td>\n",
       "      <td>38460</td>\n",
       "      <td>1915</td>\n",
       "      <td>0</td>\n",
       "      <td>0.0</td>\n",
       "      <td>4.98</td>\n",
       "      <td>Malignant neoplasms of independent (primary) m...</td>\n",
       "    </tr>\n",
       "    <tr>\n",
       "      <th>chapter</th>\n",
       "      <td>object</td>\n",
       "      <td>38460</td>\n",
       "      <td>19</td>\n",
       "      <td>0</td>\n",
       "      <td>0.0</td>\n",
       "      <td>0.05</td>\n",
       "      <td>CHAPTER XX External causes of morbidity and mo...</td>\n",
       "    </tr>\n",
       "    <tr>\n",
       "      <th>count</th>\n",
       "      <td>int64</td>\n",
       "      <td>38460</td>\n",
       "      <td>1491</td>\n",
       "      <td>0</td>\n",
       "      <td>0.0</td>\n",
       "      <td>3.88</td>\n",
       "      <td>0</td>\n",
       "    </tr>\n",
       "    <tr>\n",
       "      <th>year</th>\n",
       "      <td>object</td>\n",
       "      <td>38460</td>\n",
       "      <td>10</td>\n",
       "      <td>0</td>\n",
       "      <td>0.0</td>\n",
       "      <td>0.03</td>\n",
       "      <td>2014</td>\n",
       "    </tr>\n",
       "    <tr>\n",
       "      <th>sex</th>\n",
       "      <td>object</td>\n",
       "      <td>38460</td>\n",
       "      <td>2</td>\n",
       "      <td>0</td>\n",
       "      <td>0.0</td>\n",
       "      <td>0.01</td>\n",
       "      <td>Males</td>\n",
       "    </tr>\n",
       "  </tbody>\n",
       "</table>\n",
       "</div>"
      ],
      "text/plain": [
       "               dataTypes  totalValues  uniqueValues  missingValues  \\\n",
       "cause_of_death    object        38460          1915              0   \n",
       "chapter           object        38460            19              0   \n",
       "count              int64        38460          1491              0   \n",
       "year              object        38460            10              0   \n",
       "sex               object        38460             2              0   \n",
       "\n",
       "                missingPercent  uniquePercent  \\\n",
       "cause_of_death             0.0           4.98   \n",
       "chapter                    0.0           0.05   \n",
       "count                      0.0           3.88   \n",
       "year                       0.0           0.03   \n",
       "sex                        0.0           0.01   \n",
       "\n",
       "                                               topRecurringValues  \n",
       "cause_of_death  Malignant neoplasms of independent (primary) m...  \n",
       "chapter         CHAPTER XX External causes of morbidity and mo...  \n",
       "count                                                           0  \n",
       "year                                                         2014  \n",
       "sex                                                         Males  "
      ]
     },
     "execution_count": 209,
     "metadata": {},
     "output_type": "execute_result"
    }
   ],
   "source": [
    "mh.columnStats(data_tidy)"
   ]
  },
  {
   "cell_type": "code",
   "execution_count": 210,
   "metadata": {},
   "outputs": [
    {
     "data": {
      "text/plain": [
       "array(['CHAPTER I Certain infectious and parasitic diseases',\n",
       "       'CHAPTER II Neoplasms',\n",
       "       'CHAPTER III Diseases of the blood and blood-forming organs and certain disorders involving the immune mechanism',\n",
       "       'CHAPTER IV Endocrine, nutritional and metabolic diseases',\n",
       "       'CHAPTER V Mental and behavioural disorders',\n",
       "       'CHAPTER VI Diseases of the nervous system',\n",
       "       'CHAPTER VII Diseases of the eye and adnexa',\n",
       "       'CHAPTER VIII Diseases of the ear and mastoid process',\n",
       "       'CHAPTER IX Diseases of the circulatory system',\n",
       "       'CHAPTER X Diseases of the respiratory system',\n",
       "       'CHAPTER XI Diseases of the digestive system',\n",
       "       'CHAPTER XII Diseases of the skin and subcutaneous tissue',\n",
       "       'CHAPTER XIII Diseases of the musculoskeletal system and connective tissue',\n",
       "       'CHAPTER XIV Diseases of the genitourinary system',\n",
       "       'CHAPTER XV Pregnancy, childbirth and the puerperium',\n",
       "       'CHAPTER XVI Certain conditions originating in the perinatal period',\n",
       "       'CHAPTER XVII Congenital malformations, deformations and chromosomal abnormalities',\n",
       "       'CHAPTER XVIII Symptoms, signs and abnormal clinical and laboratory findings, not elsewhere classified',\n",
       "       'CHAPTER XX External causes of morbidity and mortality'],\n",
       "      dtype=object)"
      ]
     },
     "execution_count": 210,
     "metadata": {},
     "output_type": "execute_result"
    }
   ],
   "source": [
    "data_tidy['chapter'].unique()"
   ]
  },
  {
   "cell_type": "code",
   "execution_count": 211,
   "metadata": {},
   "outputs": [
    {
     "data": {
      "text/html": [
       "<div>\n",
       "<style scoped>\n",
       "    .dataframe tbody tr th:only-of-type {\n",
       "        vertical-align: middle;\n",
       "    }\n",
       "\n",
       "    .dataframe tbody tr th {\n",
       "        vertical-align: top;\n",
       "    }\n",
       "\n",
       "    .dataframe thead th {\n",
       "        text-align: right;\n",
       "    }\n",
       "</style>\n",
       "<table border=\"1\" class=\"dataframe\">\n",
       "  <thead>\n",
       "    <tr style=\"text-align: right;\">\n",
       "      <th></th>\n",
       "      <th>cause_of_death</th>\n",
       "      <th>chapter</th>\n",
       "      <th>count</th>\n",
       "      <th>year</th>\n",
       "      <th>sex</th>\n",
       "    </tr>\n",
       "  </thead>\n",
       "  <tbody>\n",
       "    <tr>\n",
       "      <th>0</th>\n",
       "      <td>Intestinal infectious diseases</td>\n",
       "      <td>Certain infectious and parasitic diseases</td>\n",
       "      <td>23</td>\n",
       "      <td>2008</td>\n",
       "      <td>Males</td>\n",
       "    </tr>\n",
       "    <tr>\n",
       "      <th>1</th>\n",
       "      <td>Cholera</td>\n",
       "      <td>Certain infectious and parasitic diseases</td>\n",
       "      <td>0</td>\n",
       "      <td>2008</td>\n",
       "      <td>Males</td>\n",
       "    </tr>\n",
       "    <tr>\n",
       "      <th>2</th>\n",
       "      <td>Typhoid and paratyphoid fevers</td>\n",
       "      <td>Certain infectious and parasitic diseases</td>\n",
       "      <td>0</td>\n",
       "      <td>2008</td>\n",
       "      <td>Males</td>\n",
       "    </tr>\n",
       "    <tr>\n",
       "      <th>3</th>\n",
       "      <td>Other salmonella infections</td>\n",
       "      <td>Certain infectious and parasitic diseases</td>\n",
       "      <td>4</td>\n",
       "      <td>2008</td>\n",
       "      <td>Males</td>\n",
       "    </tr>\n",
       "    <tr>\n",
       "      <th>4</th>\n",
       "      <td>Shigellosis</td>\n",
       "      <td>Certain infectious and parasitic diseases</td>\n",
       "      <td>0</td>\n",
       "      <td>2008</td>\n",
       "      <td>Males</td>\n",
       "    </tr>\n",
       "  </tbody>\n",
       "</table>\n",
       "</div>"
      ],
      "text/plain": [
       "                   cause_of_death                                    chapter  \\\n",
       "0  Intestinal infectious diseases  Certain infectious and parasitic diseases   \n",
       "1                         Cholera  Certain infectious and parasitic diseases   \n",
       "2  Typhoid and paratyphoid fevers  Certain infectious and parasitic diseases   \n",
       "3     Other salmonella infections  Certain infectious and parasitic diseases   \n",
       "4                     Shigellosis  Certain infectious and parasitic diseases   \n",
       "\n",
       "   count  year    sex  \n",
       "0     23  2008  Males  \n",
       "1      0  2008  Males  \n",
       "2      0  2008  Males  \n",
       "3      4  2008  Males  \n",
       "4      0  2008  Males  "
      ]
     },
     "execution_count": 211,
     "metadata": {},
     "output_type": "execute_result"
    }
   ],
   "source": [
    "chapterMappings = {\n",
    "'CHAPTER I Certain infectious and parasitic diseases': 'Certain infectious and parasitic diseases',\n",
    "'CHAPTER II Neoplasms': 'Neoplasms',\n",
    "'CHAPTER III Diseases of the blood and blood-forming organs and certain disorders involving the immune': 'Diseases of the blood and blood-forming organs and certain disorders involving the immune mechanism',\n",
    "'CHAPTER IV Endocrine, nutritional and metabolic diseases': 'Endocrine, nutritional and metabolic diseases',\n",
    "'CHAPTER V Mental and behavioural disorders': 'Mental and behavioural disorders',\n",
    "'CHAPTER VI Diseases of the nervous system': 'Diseases of the nervous system',\n",
    "'CHAPTER VII Diseases of the eye and adnexa': 'Diseases of the eye and adnexa',\n",
    "'CHAPTER VIII Diseases of the ear and mastoid process': 'Diseases of the ear and mastoid process',\n",
    "'CHAPTER IX Diseases of the circulatory system': 'Diseases of the circulatory system',\n",
    "'CHAPTER X Diseases of the respiratory system': 'Diseases of the respiratory system',\n",
    "'CHAPTER XI Diseases of the digestive system': 'Diseases of the digestive system',\n",
    "'CHAPTER XII Diseases of the skin and subcutaneous tissue': 'Diseases of the skin and subcutaneous tissue',\n",
    "'CHAPTER XIII Diseases of the musculoskeletal system and connective tissue': 'Diseases of the musculoskeletal system and connective tissue',\n",
    "'CHAPTER XIV Diseases of the genitourinary system': 'Diseases of the genitourinary system',\n",
    "'CHAPTER XV Pregnancy, childbirth and the puerperium': 'Pregnancy, childbirth and the puerperium',\n",
    "'CHAPTER XVI Certain conditions originating in the perinatal period': 'Certain conditions originating in the perinatal period',\n",
    "'CHAPTER XVII Congenital malformations, deformations and chromosomal abnormalities': 'Congenital malformations, deformations and chromosomal abnormalities',\n",
    "'CHAPTER XVIII Symptoms, signs and abnormal clinical and laboratory findings, not elsewhere classified': 'Symptoms, signs and abnormal clinical and laboratory findings, not elsewhere classified',\n",
    "'CHAPTER XX External causes of morbidity and mortality': 'External causes of morbidity and mortality'\n",
    "}\n",
    "\n",
    "data_tidy['chapter'] = data_tidy['chapter'].map(chapterMappings)\n",
    "data_tidy.head()"
   ]
  },
  {
   "cell_type": "code",
   "execution_count": 292,
   "metadata": {},
   "outputs": [],
   "source": [
    "mappings = {\n",
    "    'Mental and behavioural disorders due to psychoactive substance use': 'Mental Disorder due to substance use',\n",
    "    'Mental and behavioural disorders due to use of alcohol': 'Mental Disorder due to substance use',\n",
    "    'Organic, including symptomatic, mental disorders': 'Symptomatic Mental Disorders',\n",
    "    'Delirium, not induced by alcohol and other psychoactive substances': 'Delirium',\n",
    "    'Unspecified dementia': 'Dementia',\n",
    "    'Vascular dementia': 'Dementia',\n",
    "    'Mood [affective] disorders': 'Depression',\n",
    "    'Depressive episode': 'Depression',\n",
    "    'Schizophrenia, schizotypal and delusional disorders': 'Schizophrenia',\n",
    "    'Schizophrenia': 'Schizophrenia',\n",
    "    'Other external causes of accidental injury': 'Other', \n",
    "    'Other external causes of mortality': 'Other',\n",
    "    'Intentional self-harm': 'Suicide',\n",
    "    'Falls': 'Falls',\n",
    "    'Transport accidents': 'Transport Accidents',\n",
    "    'Intentional self-harm by hanging, strangulation and suffocation': 'Suicide',\n",
    "    'Unspecified fall': 'Falls',\n",
    "    'Accidental poisoning by and exposure to noxious substances': 'Accidental Poisoning',\n",
    "    'Car occupant injured in transport accident': 'Transport Accidents',\n",
    "    'Accidental exposure to other and unspecified factors': 'Other'\n",
    "}\n",
    "\n",
    "data_tidy['cause_of_death_map'] = data_tidy['cause_of_death'].map(mappings)"
   ]
  },
  {
   "cell_type": "code",
   "execution_count": 293,
   "metadata": {},
   "outputs": [
    {
     "data": {
      "text/plain": [
       "[nan,\n",
       " 'Symptomatic Mental Disorders',\n",
       " 'Dementia',\n",
       " 'Delirium',\n",
       " 'Mental Disorder due to substance use',\n",
       " 'Schizophrenia',\n",
       " 'Depression',\n",
       " 'Transport Accidents',\n",
       " 'Other',\n",
       " 'Falls',\n",
       " 'Accidental Poisoning',\n",
       " 'Suicide']"
      ]
     },
     "execution_count": 293,
     "metadata": {},
     "output_type": "execute_result"
    }
   ],
   "source": [
    "data_tidy['cause_of_death_map'].unique().tolist()"
   ]
  },
  {
   "cell_type": "code",
   "execution_count": 214,
   "metadata": {},
   "outputs": [],
   "source": [
    "data_tidy.to_csv(\"core/data/public/causesofdeath.csv\", index=False)"
   ]
  },
  {
   "cell_type": "code",
   "execution_count": 193,
   "metadata": {},
   "outputs": [
    {
     "name": "stderr",
     "output_type": "stream",
     "text": [
      "/Library/Frameworks/Python.framework/Versions/3.7/lib/python3.7/site-packages/altair/utils/core.py:81: UserWarning: I don't know how to infer vegalite type from 'empty'.  Defaulting to nominal.\n",
      "  \"Defaulting to nominal.\".format(typ))\n"
     ]
    },
    {
     "data": {
      "application/vnd.vegalite.v2+json": {
       "$schema": "https://vega.github.io/schema/vega-lite/v2.4.3.json",
       "config": {
        "view": {
         "height": 300,
         "width": 400
        }
       },
       "data": {
        "values": []
       },
       "encoding": {
        "tooltip": [
         {
          "field": "chapter",
          "type": "nominal"
         },
         {
          "field": "count",
          "type": "quantitative"
         }
        ],
        "x": {
         "field": "chapter",
         "sort": {
          "field": "count",
          "op": "sum",
          "order": "descending"
         },
         "type": "nominal"
        },
        "y": {
         "field": "count",
         "type": "quantitative"
        }
       },
       "mark": "bar",
       "width": 800
      },
      "image/png": "[encoded data removed]",
      "text/plain": [
       "<VegaLite 2 object>\n",
       "\n",
       "If you see this message, it means the renderer has not been properly enabled\n",
       "for the frontend that you are using. For more information, see\n",
       "https://altair-viz.github.io/user_guide/troubleshooting.html\n"
      ]
     },
     "execution_count": 193,
     "metadata": {},
     "output_type": "execute_result"
    }
   ],
   "source": [
    "chartData = data_tidy.groupby([\"chapter\"]).agg({\"count\": \"sum\"}).reset_index()\n",
    "\n",
    "alt.Chart(chartData).mark_bar().encode(\n",
    "    x=alt.X(\"chapter\", sort=alt.SortField(\"sum\",\"count\", order=\"descending\")),\n",
    "    y=\"count\",\n",
    "    tooltip=chartData.columns.tolist()\n",
    ").properties(\n",
    "    width=800\n",
    ")"
   ]
  },
  {
   "cell_type": "markdown",
   "metadata": {},
   "source": [
    "## Some Definitions\n",
    "- Neoplasms: a new and abnormal growth of tissue in a part of the body, especially as a characteristic of cancer.\n",
    "- Diseases of the circulatory system: The circulatory system is a network consisting of blood, blood vessels, and the heart.\n",
    "- External Causes: E.g. Murder, Drowing, Falling etc"
   ]
  },
  {
   "cell_type": "markdown",
   "metadata": {},
   "source": [
    "### A look at the Mental and Behaviour Disorder deaths"
   ]
  },
  {
   "cell_type": "code",
   "execution_count": 178,
   "metadata": {},
   "outputs": [
    {
     "data": {
      "text/html": [
       "<div>\n",
       "<style scoped>\n",
       "    .dataframe tbody tr th:only-of-type {\n",
       "        vertical-align: middle;\n",
       "    }\n",
       "\n",
       "    .dataframe tbody tr th {\n",
       "        vertical-align: top;\n",
       "    }\n",
       "\n",
       "    .dataframe thead th {\n",
       "        text-align: right;\n",
       "    }\n",
       "</style>\n",
       "<table border=\"1\" class=\"dataframe\">\n",
       "  <thead>\n",
       "    <tr style=\"text-align: right;\">\n",
       "      <th></th>\n",
       "      <th>cause_of_death</th>\n",
       "      <th>chapter</th>\n",
       "      <th>count</th>\n",
       "      <th>year</th>\n",
       "      <th>sex</th>\n",
       "      <th>cause_of_death_map</th>\n",
       "    </tr>\n",
       "  </thead>\n",
       "  <tbody>\n",
       "    <tr>\n",
       "      <th>467</th>\n",
       "      <td>Organic, including symptomatic, mental disorders</td>\n",
       "      <td>V Mental and behavioural disorders</td>\n",
       "      <td>1982</td>\n",
       "      <td>2008</td>\n",
       "      <td>Males</td>\n",
       "      <td>Symptomatic Mental Disorders</td>\n",
       "    </tr>\n",
       "    <tr>\n",
       "      <th>468</th>\n",
       "      <td>Vascular dementia</td>\n",
       "      <td>V Mental and behavioural disorders</td>\n",
       "      <td>404</td>\n",
       "      <td>2008</td>\n",
       "      <td>Males</td>\n",
       "      <td>Dementia</td>\n",
       "    </tr>\n",
       "    <tr>\n",
       "      <th>469</th>\n",
       "      <td>Unspecified dementia</td>\n",
       "      <td>V Mental and behavioural disorders</td>\n",
       "      <td>1512</td>\n",
       "      <td>2008</td>\n",
       "      <td>Males</td>\n",
       "      <td>Dementia</td>\n",
       "    </tr>\n",
       "    <tr>\n",
       "      <th>470</th>\n",
       "      <td>Organic amnesic syndrome, not induced by alcoh...</td>\n",
       "      <td>V Mental and behavioural disorders</td>\n",
       "      <td>0</td>\n",
       "      <td>2008</td>\n",
       "      <td>Males</td>\n",
       "      <td>NaN</td>\n",
       "    </tr>\n",
       "    <tr>\n",
       "      <th>471</th>\n",
       "      <td>Delirium, not induced by alcohol and other psy...</td>\n",
       "      <td>V Mental and behavioural disorders</td>\n",
       "      <td>50</td>\n",
       "      <td>2008</td>\n",
       "      <td>Males</td>\n",
       "      <td>NaN</td>\n",
       "    </tr>\n",
       "  </tbody>\n",
       "</table>\n",
       "</div>"
      ],
      "text/plain": [
       "                                        cause_of_death  \\\n",
       "467   Organic, including symptomatic, mental disorders   \n",
       "468                                  Vascular dementia   \n",
       "469                               Unspecified dementia   \n",
       "470  Organic amnesic syndrome, not induced by alcoh...   \n",
       "471  Delirium, not induced by alcohol and other psy...   \n",
       "\n",
       "                                chapter  count  year    sex  \\\n",
       "467  V Mental and behavioural disorders   1982  2008  Males   \n",
       "468  V Mental and behavioural disorders    404  2008  Males   \n",
       "469  V Mental and behavioural disorders   1512  2008  Males   \n",
       "470  V Mental and behavioural disorders      0  2008  Males   \n",
       "471  V Mental and behavioural disorders     50  2008  Males   \n",
       "\n",
       "               cause_of_death_map  \n",
       "467  Symptomatic Mental Disorders  \n",
       "468                      Dementia  \n",
       "469                      Dementia  \n",
       "470                           NaN  \n",
       "471                           NaN  "
      ]
     },
     "execution_count": 178,
     "metadata": {},
     "output_type": "execute_result"
    }
   ],
   "source": [
    "mbd = data_tidy[data_tidy['chapter'] == 'V Mental and behavioural disorders']\n",
    "mbd.head()"
   ]
  },
  {
   "cell_type": "code",
   "execution_count": 290,
   "metadata": {},
   "outputs": [
    {
     "data": {
      "text/plain": [
       "{'Mental and behavioural disorders due to psychoactive substance use': 'Mental Disorder due to substance use',\n",
       " 'Mental and behavioural disorders due to use of alcohol': 'Mental Disorder due to substance use',\n",
       " 'Organic, including symptomatic, mental disorders': 'Symptomatic Mental Disorders',\n",
       " 'Delirium, not induced by alcohol and other psychoactive substances': 'Delirium',\n",
       " 'Unspecified dementia': 'Dementia',\n",
       " 'Vascular dementia': 'Dementia',\n",
       " 'Mood [affective] disorders': 'Depression',\n",
       " 'Depressive episode': 'Depression',\n",
       " 'Schizophrenia, schizotypal and delusional disorders': 'Schizophrenia',\n",
       " 'Schizophrenia': 'Schizophrenia'}"
      ]
     },
     "execution_count": 290,
     "metadata": {},
     "output_type": "execute_result"
    }
   ],
   "source": [
    "# {\n",
    "#     'Mental and behavioural disorders due to psychoactive substance use': 'Mental Disorder due to substance use',\n",
    "#     'Mental and behavioural disorders due to use of alcohol': 'Mental Disorder due to substance use',\n",
    "#     'Organic, including symptomatic, mental disorders': 'Symptomatic Mental Disorders',\n",
    "#     'Delirium, not induced by alcohol and other psychoactive substances': 'Delirium',\n",
    "#     'Unspecified dementia': 'Dementia',\n",
    "#     'Vascular dementia': 'Dementia',\n",
    "#     'Mood [affective] disorders': 'Depression',\n",
    "#     'Depressive episode': 'Depression',\n",
    "#     'Schizophrenia, schizotypal and delusional disorders': 'Schizophrenia',\n",
    "#     'Schizophrenia': 'Schizophrenia'\n",
    "# }"
   ]
  },
  {
   "cell_type": "code",
   "execution_count": 289,
   "metadata": {},
   "outputs": [
    {
     "data": {
      "text/plain": [
       "['Organic, including symptomatic, mental disorders',\n",
       " 'Unspecified dementia',\n",
       " 'Vascular dementia',\n",
       " 'Mental and behavioural disorders due to psychoactive substance use',\n",
       " 'Mental and behavioural disorders due to use of alcohol',\n",
       " 'Delirium, not induced by alcohol and other psychoactive substances',\n",
       " 'Mood [affective] disorders',\n",
       " 'Depressive episode',\n",
       " 'Schizophrenia, schizotypal and delusional disorders',\n",
       " 'Schizophrenia']"
      ]
     },
     "execution_count": 289,
     "metadata": {},
     "output_type": "execute_result"
    }
   ],
   "source": [
    "# Head value will return top x based on counts\n",
    "top_x = mbd.groupby(\"cause_of_death\").agg({\"count\" : \"sum\"}).reset_index().sort_values(\"count\", ascending=False).reset_index(drop=True).head(10)\n",
    "\n",
    "top_x['cause_of_death'].unique().tolist()"
   ]
  },
  {
   "cell_type": "code",
   "execution_count": 285,
   "metadata": {},
   "outputs": [
    {
     "data": {
      "application/vnd.vegalite.v2+json": {
       "$schema": "https://vega.github.io/schema/vega-lite/v2.4.3.json",
       "config": {
        "view": {
         "height": 300,
         "width": 400
        }
       },
       "data": {
        "values": [
         {
          "cause_of_death": "Organic, including symptomatic, mental disorders",
          "count": 77385
         },
         {
          "cause_of_death": "Unspecified dementia",
          "count": 63502
         },
         {
          "cause_of_death": "Vascular dementia",
          "count": 11838
         },
         {
          "cause_of_death": "Mental and behavioural disorders due to psychoactive substance use",
          "count": 3422
         },
         {
          "cause_of_death": "Mental and behavioural disorders due to use of alcohol",
          "count": 2617
         },
         {
          "cause_of_death": "Delirium, not induced by alcohol and other psychoactive substances",
          "count": 1849
         },
         {
          "cause_of_death": "Mood [affective] disorders",
          "count": 733
         },
         {
          "cause_of_death": "Depressive episode",
          "count": 619
         },
         {
          "cause_of_death": "Schizophrenia, schizotypal and delusional disorders",
          "count": 604
         },
         {
          "cause_of_death": "Schizophrenia",
          "count": 535
         }
        ]
       },
       "encoding": {
        "tooltip": [
         {
          "field": "cause_of_death",
          "type": "nominal"
         },
         {
          "field": "count",
          "type": "quantitative"
         }
        ],
        "x": {
         "field": "count",
         "type": "quantitative"
        },
        "y": {
         "field": "cause_of_death",
         "sort": {
          "field": "count",
          "op": "sum",
          "order": "descending"
         },
         "type": "nominal"
        }
       },
       "mark": "bar",
       "width": 800
      },
      "image/png": "[encoded data removed]",
      "text/plain": [
       "<VegaLite 2 object>\n",
       "\n",
       "If you see this message, it means the renderer has not been properly enabled\n",
       "for the frontend that you are using. For more information, see\n",
       "https://altair-viz.github.io/user_guide/troubleshooting.html\n"
      ]
     },
     "execution_count": 285,
     "metadata": {},
     "output_type": "execute_result"
    }
   ],
   "source": [
    "alt.Chart(top_x).mark_bar().encode(\n",
    "    y=alt.Y(\"cause_of_death\", sort=alt.SortField(\"sum\", \"count\", order=\"descending\")),\n",
    "    x=\"count\",\n",
    "    tooltip=top_x.columns.tolist()\n",
    ").properties(\n",
    "    width=800\n",
    ")"
   ]
  },
  {
   "cell_type": "code",
   "execution_count": 270,
   "metadata": {},
   "outputs": [
    {
     "data": {
      "application/vnd.vegalite.v2+json": {
       "$schema": "https://vega.github.io/schema/vega-lite/v2.4.3.json",
       "config": {
        "view": {
         "height": 300,
         "width": 400
        }
       },
       "data": {
        "values": [
         {
          "cause_of_death_map": "Symptomatic Mental Disorders",
          "count": 77385
         },
         {
          "cause_of_death_map": "Dementia",
          "count": 75340
         },
         {
          "cause_of_death_map": "Mental Disorder due to substance use",
          "count": 6039
         }
        ]
       },
       "encoding": {
        "tooltip": [
         {
          "field": "cause_of_death_map",
          "type": "nominal"
         },
         {
          "field": "count",
          "type": "quantitative"
         }
        ],
        "x": {
         "field": "count",
         "type": "quantitative"
        },
        "y": {
         "field": "cause_of_death_map",
         "sort": {
          "field": "count",
          "op": "sum",
          "order": "descending"
         },
         "type": "nominal"
        }
       },
       "mark": "bar",
       "width": 800
      },
      "image/png": "[encoded data removed]",
      "text/plain": [
       "<VegaLite 2 object>\n",
       "\n",
       "If you see this message, it means the renderer has not been properly enabled\n",
       "for the frontend that you are using. For more information, see\n",
       "https://altair-viz.github.io/user_guide/troubleshooting.html\n"
      ]
     },
     "execution_count": 270,
     "metadata": {},
     "output_type": "execute_result"
    }
   ],
   "source": [
    "# Head value will return top x based on counts\n",
    "top_x = mbd.groupby(\"cause_of_death_map\").agg({\"count\" : \"sum\"}).reset_index().sort_values(\"count\", ascending=False).reset_index(drop=True)\n",
    "\n",
    "alt.Chart(top_x).mark_bar().encode(\n",
    "    y=alt.Y(\"cause_of_death_map\", sort=alt.SortField(\"sum\", \"count\", order=\"descending\")),\n",
    "    x=\"count\",\n",
    "    tooltip=top_x.columns.tolist()\n",
    ").properties(\n",
    "    width=800\n",
    ")"
   ]
  },
  {
   "cell_type": "code",
   "execution_count": 261,
   "metadata": {},
   "outputs": [
    {
     "data": {
      "application/vnd.vegalite.v2+json": {
       "$schema": "https://vega.github.io/schema/vega-lite/v2.4.3.json",
       "config": {
        "view": {
         "height": 300,
         "width": 400
        }
       },
       "data": {
        "values": [
         {
          "cause_of_death_map": "Symptomatic Mental Disorders",
          "count": 9640,
          "year": "2017"
         },
         {
          "cause_of_death_map": "Symptomatic Mental Disorders",
          "count": 9452,
          "year": "2016"
         },
         {
          "cause_of_death_map": "Dementia",
          "count": 9450,
          "year": "2017"
         },
         {
          "cause_of_death_map": "Dementia",
          "count": 9135,
          "year": "2016"
         },
         {
          "cause_of_death_map": "Symptomatic Mental Disorders",
          "count": 9112,
          "year": "2015"
         },
         {
          "cause_of_death_map": "Dementia",
          "count": 8797,
          "year": "2015"
         },
         {
          "cause_of_death_map": "Symptomatic Mental Disorders",
          "count": 8595,
          "year": "2014"
         },
         {
          "cause_of_death_map": "Dementia",
          "count": 8332,
          "year": "2014"
         },
         {
          "cause_of_death_map": "Symptomatic Mental Disorders",
          "count": 7791,
          "year": "2013"
         },
         {
          "cause_of_death_map": "Dementia",
          "count": 7604,
          "year": "2013"
         },
         {
          "cause_of_death_map": "Symptomatic Mental Disorders",
          "count": 7552,
          "year": "2012"
         },
         {
          "cause_of_death_map": "Dementia",
          "count": 7321,
          "year": "2012"
         },
         {
          "cause_of_death_map": "Symptomatic Mental Disorders",
          "count": 7049,
          "year": "2011"
         },
         {
          "cause_of_death_map": "Dementia",
          "count": 6877,
          "year": "2011"
         },
         {
          "cause_of_death_map": "Symptomatic Mental Disorders",
          "count": 6433,
          "year": "2010"
         },
         {
          "cause_of_death_map": "Dementia",
          "count": 6297,
          "year": "2010"
         },
         {
          "cause_of_death_map": "Symptomatic Mental Disorders",
          "count": 5964,
          "year": "2009"
         },
         {
          "cause_of_death_map": "Dementia",
          "count": 5839,
          "year": "2009"
         },
         {
          "cause_of_death_map": "Symptomatic Mental Disorders",
          "count": 5797,
          "year": "2008"
         },
         {
          "cause_of_death_map": "Dementia",
          "count": 5688,
          "year": "2008"
         },
         {
          "cause_of_death_map": "Mental Disorder due to substance use",
          "count": 715,
          "year": "2008"
         },
         {
          "cause_of_death_map": "Mental Disorder due to substance use",
          "count": 679,
          "year": "2010"
         },
         {
          "cause_of_death_map": "Mental Disorder due to substance use",
          "count": 663,
          "year": "2011"
         },
         {
          "cause_of_death_map": "Mental Disorder due to substance use",
          "count": 618,
          "year": "2009"
         },
         {
          "cause_of_death_map": "Mental Disorder due to substance use",
          "count": 613,
          "year": "2015"
         },
         {
          "cause_of_death_map": "Mental Disorder due to substance use",
          "count": 610,
          "year": "2012"
         },
         {
          "cause_of_death_map": "Mental Disorder due to substance use",
          "count": 602,
          "year": "2017"
         },
         {
          "cause_of_death_map": "Mental Disorder due to substance use",
          "count": 585,
          "year": "2016"
         },
         {
          "cause_of_death_map": "Mental Disorder due to substance use",
          "count": 490,
          "year": "2014"
         },
         {
          "cause_of_death_map": "Mental Disorder due to substance use",
          "count": 464,
          "year": "2013"
         }
        ]
       },
       "encoding": {
        "color": {
         "field": "cause_of_death_map",
         "type": "nominal"
        },
        "x": {
         "field": "year",
         "timeUnit": "year",
         "type": "temporal"
        },
        "y": {
         "field": "count",
         "stack": "normalize",
         "type": "quantitative"
        }
       },
       "height": 200,
       "mark": "area",
       "width": 800
      },
      "image/png": "[encoded data removed]",
      "text/plain": [
       "<VegaLite 2 object>\n",
       "\n",
       "If you see this message, it means the renderer has not been properly enabled\n",
       "for the frontend that you are using. For more information, see\n",
       "https://altair-viz.github.io/user_guide/troubleshooting.html\n"
      ]
     },
     "execution_count": 261,
     "metadata": {},
     "output_type": "execute_result"
    }
   ],
   "source": [
    "chartData = mbd.groupby([\"cause_of_death_map\", \"year\"]).agg({\"count\" : \"sum\"}).reset_index().sort_values(\"count\", ascending=False).reset_index(drop=True)\n",
    "\n",
    "alt.Chart(chartData).mark_area().encode(\n",
    "    x=alt.X(\"year:T\", timeUnit=\"year\"),\n",
    "    y=alt.Y(\"count\", stack=\"normalize\"),\n",
    "    color=\"cause_of_death_map\"\n",
    ").properties(\n",
    "    width=800,\n",
    "    height=200\n",
    ")"
   ]
  },
  {
   "cell_type": "code",
   "execution_count": 182,
   "metadata": {},
   "outputs": [
    {
     "data": {
      "application/vnd.vegalite.v2+json": {
       "$schema": "https://vega.github.io/schema/vega-lite/v2.4.3.json",
       "config": {
        "view": {
         "height": 300,
         "width": 400
        }
       },
       "data": {
        "values": [
         {
          "cause_of_death_map": "Dementia",
          "count": 3772,
          "pct_change": null,
          "sex": "Females",
          "year": "2008"
         },
         {
          "cause_of_death_map": "Dementia",
          "count": 3862,
          "pct_change": 2.3860021208907733,
          "sex": "Females",
          "year": "2009"
         },
         {
          "cause_of_death_map": "Dementia",
          "count": 4218,
          "pct_change": 9.218021750388395,
          "sex": "Females",
          "year": "2010"
         },
         {
          "cause_of_death_map": "Dementia",
          "count": 4548,
          "pct_change": 7.823613086770975,
          "sex": "Females",
          "year": "2011"
         },
         {
          "cause_of_death_map": "Dementia",
          "count": 4834,
          "pct_change": 6.288478452066837,
          "sex": "Females",
          "year": "2012"
         },
         {
          "cause_of_death_map": "Dementia",
          "count": 4992,
          "pct_change": 3.268514687629298,
          "sex": "Females",
          "year": "2013"
         },
         {
          "cause_of_death_map": "Dementia",
          "count": 5461,
          "pct_change": 9.395032051282048,
          "sex": "Females",
          "year": "2014"
         },
         {
          "cause_of_death_map": "Dementia",
          "count": 5671,
          "pct_change": 3.8454495513642106,
          "sex": "Females",
          "year": "2015"
         },
         {
          "cause_of_death_map": "Dementia",
          "count": 5802,
          "pct_change": 2.309998236642574,
          "sex": "Females",
          "year": "2016"
         },
         {
          "cause_of_death_map": "Dementia",
          "count": 6031,
          "pct_change": 3.946914856945871,
          "sex": "Females",
          "year": "2017"
         },
         {
          "cause_of_death_map": "Dementia",
          "count": 1916,
          "pct_change": null,
          "sex": "Males",
          "year": "2008"
         },
         {
          "cause_of_death_map": "Dementia",
          "count": 1977,
          "pct_change": 3.183716075156573,
          "sex": "Males",
          "year": "2009"
         },
         {
          "cause_of_death_map": "Dementia",
          "count": 2079,
          "pct_change": 5.159332321699539,
          "sex": "Males",
          "year": "2010"
         },
         {
          "cause_of_death_map": "Dementia",
          "count": 2329,
          "pct_change": 12.025012025012028,
          "sex": "Males",
          "year": "2011"
         },
         {
          "cause_of_death_map": "Dementia",
          "count": 2487,
          "pct_change": 6.7840274796049815,
          "sex": "Males",
          "year": "2012"
         },
         {
          "cause_of_death_map": "Dementia",
          "count": 2612,
          "pct_change": 5.026135906714924,
          "sex": "Males",
          "year": "2013"
         },
         {
          "cause_of_death_map": "Dementia",
          "count": 2871,
          "pct_change": 9.915773353751911,
          "sex": "Males",
          "year": "2014"
         },
         {
          "cause_of_death_map": "Dementia",
          "count": 3126,
          "pct_change": 8.881922675026122,
          "sex": "Males",
          "year": "2015"
         },
         {
          "cause_of_death_map": "Dementia",
          "count": 3333,
          "pct_change": 6.621880998080609,
          "sex": "Males",
          "year": "2016"
         },
         {
          "cause_of_death_map": "Dementia",
          "count": 3419,
          "pct_change": 2.580258025802573,
          "sex": "Males",
          "year": "2017"
         },
         {
          "cause_of_death_map": "Mental Disorder due to substance use",
          "count": 174,
          "pct_change": null,
          "sex": "Females",
          "year": "2008"
         },
         {
          "cause_of_death_map": "Mental Disorder due to substance use",
          "count": 140,
          "pct_change": -19.54022988505747,
          "sex": "Females",
          "year": "2009"
         },
         {
          "cause_of_death_map": "Mental Disorder due to substance use",
          "count": 200,
          "pct_change": 42.85714285714286,
          "sex": "Females",
          "year": "2010"
         },
         {
          "cause_of_death_map": "Mental Disorder due to substance use",
          "count": 180,
          "pct_change": -9.999999999999998,
          "sex": "Females",
          "year": "2011"
         },
         {
          "cause_of_death_map": "Mental Disorder due to substance use",
          "count": 174,
          "pct_change": -3.3333333333333326,
          "sex": "Females",
          "year": "2012"
         },
         {
          "cause_of_death_map": "Mental Disorder due to substance use",
          "count": 104,
          "pct_change": -40.22988505747126,
          "sex": "Females",
          "year": "2013"
         },
         {
          "cause_of_death_map": "Mental Disorder due to substance use",
          "count": 102,
          "pct_change": -1.9230769230769273,
          "sex": "Females",
          "year": "2014"
         },
         {
          "cause_of_death_map": "Mental Disorder due to substance use",
          "count": 130,
          "pct_change": 27.450980392156854,
          "sex": "Females",
          "year": "2015"
         },
         {
          "cause_of_death_map": "Mental Disorder due to substance use",
          "count": 124,
          "pct_change": -4.61538461538461,
          "sex": "Females",
          "year": "2016"
         },
         {
          "cause_of_death_map": "Mental Disorder due to substance use",
          "count": 148,
          "pct_change": 19.354838709677423,
          "sex": "Females",
          "year": "2017"
         },
         {
          "cause_of_death_map": "Mental Disorder due to substance use",
          "count": 541,
          "pct_change": null,
          "sex": "Males",
          "year": "2008"
         },
         {
          "cause_of_death_map": "Mental Disorder due to substance use",
          "count": 478,
          "pct_change": -11.645101663585955,
          "sex": "Males",
          "year": "2009"
         },
         {
          "cause_of_death_map": "Mental Disorder due to substance use",
          "count": 479,
          "pct_change": 0.20920502092049986,
          "sex": "Males",
          "year": "2010"
         },
         {
          "cause_of_death_map": "Mental Disorder due to substance use",
          "count": 483,
          "pct_change": 0.8350730688935215,
          "sex": "Males",
          "year": "2011"
         },
         {
          "cause_of_death_map": "Mental Disorder due to substance use",
          "count": 436,
          "pct_change": -9.730848861283647,
          "sex": "Males",
          "year": "2012"
         },
         {
          "cause_of_death_map": "Mental Disorder due to substance use",
          "count": 360,
          "pct_change": -17.431192660550455,
          "sex": "Males",
          "year": "2013"
         },
         {
          "cause_of_death_map": "Mental Disorder due to substance use",
          "count": 388,
          "pct_change": 7.777777777777772,
          "sex": "Males",
          "year": "2014"
         },
         {
          "cause_of_death_map": "Mental Disorder due to substance use",
          "count": 483,
          "pct_change": 24.48453608247423,
          "sex": "Males",
          "year": "2015"
         },
         {
          "cause_of_death_map": "Mental Disorder due to substance use",
          "count": 461,
          "pct_change": -4.554865424430643,
          "sex": "Males",
          "year": "2016"
         },
         {
          "cause_of_death_map": "Mental Disorder due to substance use",
          "count": 454,
          "pct_change": -1.5184381778741818,
          "sex": "Males",
          "year": "2017"
         },
         {
          "cause_of_death_map": "Symptomatic Mental Disorders",
          "count": 3815,
          "pct_change": null,
          "sex": "Females",
          "year": "2008"
         },
         {
          "cause_of_death_map": "Symptomatic Mental Disorders",
          "count": 3912,
          "pct_change": 2.542595019659233,
          "sex": "Females",
          "year": "2009"
         },
         {
          "cause_of_death_map": "Symptomatic Mental Disorders",
          "count": 4277,
          "pct_change": 9.33026584867076,
          "sex": "Females",
          "year": "2010"
         },
         {
          "cause_of_death_map": "Symptomatic Mental Disorders",
          "count": 4631,
          "pct_change": 8.276829553425301,
          "sex": "Females",
          "year": "2011"
         },
         {
          "cause_of_death_map": "Symptomatic Mental Disorders",
          "count": 4953,
          "pct_change": 6.953141870006485,
          "sex": "Females",
          "year": "2012"
         },
         {
          "cause_of_death_map": "Symptomatic Mental Disorders",
          "count": 5082,
          "pct_change": 2.604482132041186,
          "sex": "Females",
          "year": "2013"
         },
         {
          "cause_of_death_map": "Symptomatic Mental Disorders",
          "count": 5586,
          "pct_change": 9.917355371900815,
          "sex": "Females",
          "year": "2014"
         },
         {
          "cause_of_death_map": "Symptomatic Mental Disorders",
          "count": 5830,
          "pct_change": 4.368063014679557,
          "sex": "Females",
          "year": "2015"
         },
         {
          "cause_of_death_map": "Symptomatic Mental Disorders",
          "count": 5962,
          "pct_change": 2.264150943396226,
          "sex": "Females",
          "year": "2016"
         },
         {
          "cause_of_death_map": "Symptomatic Mental Disorders",
          "count": 6132,
          "pct_change": 2.851392150285137,
          "sex": "Females",
          "year": "2017"
         },
         {
          "cause_of_death_map": "Symptomatic Mental Disorders",
          "count": 1982,
          "pct_change": null,
          "sex": "Males",
          "year": "2008"
         },
         {
          "cause_of_death_map": "Symptomatic Mental Disorders",
          "count": 2052,
          "pct_change": 3.5317860746720386,
          "sex": "Males",
          "year": "2009"
         },
         {
          "cause_of_death_map": "Symptomatic Mental Disorders",
          "count": 2156,
          "pct_change": 5.068226120857711,
          "sex": "Males",
          "year": "2010"
         },
         {
          "cause_of_death_map": "Symptomatic Mental Disorders",
          "count": 2418,
          "pct_change": 12.152133580705016,
          "sex": "Males",
          "year": "2011"
         },
         {
          "cause_of_death_map": "Symptomatic Mental Disorders",
          "count": 2599,
          "pct_change": 7.48552522746071,
          "sex": "Males",
          "year": "2012"
         },
         {
          "cause_of_death_map": "Symptomatic Mental Disorders",
          "count": 2709,
          "pct_change": 4.232397075798389,
          "sex": "Males",
          "year": "2013"
         },
         {
          "cause_of_death_map": "Symptomatic Mental Disorders",
          "count": 3009,
          "pct_change": 11.074197120708739,
          "sex": "Males",
          "year": "2014"
         },
         {
          "cause_of_death_map": "Symptomatic Mental Disorders",
          "count": 3282,
          "pct_change": 9.07278165503489,
          "sex": "Males",
          "year": "2015"
         },
         {
          "cause_of_death_map": "Symptomatic Mental Disorders",
          "count": 3490,
          "pct_change": 6.337599024984764,
          "sex": "Males",
          "year": "2016"
         },
         {
          "cause_of_death_map": "Symptomatic Mental Disorders",
          "count": 3508,
          "pct_change": 0.515759312320907,
          "sex": "Males",
          "year": "2017"
         }
        ]
       },
       "encoding": {
        "color": {
         "field": "sex",
         "type": "nominal"
        },
        "row": {
         "field": "cause_of_death_map",
         "type": "nominal"
        },
        "x": {
         "field": "year",
         "type": "nominal"
        },
        "y": {
         "field": "pct_change",
         "type": "quantitative"
        }
       },
       "height": 200,
       "mark": {
        "interpolate": "cardinal",
        "point": true,
        "type": "line"
       },
       "width": 800
      },
      "image/png": "[encoded data removed]",
      "text/plain": [
       "<VegaLite 2 object>\n",
       "\n",
       "If you see this message, it means the renderer has not been properly enabled\n",
       "for the frontend that you are using. For more information, see\n",
       "https://altair-viz.github.io/user_guide/troubleshooting.html\n"
      ]
     },
     "execution_count": 182,
     "metadata": {},
     "output_type": "execute_result"
    }
   ],
   "source": [
    "def calcRateOfChange(x):\n",
    "    data = x.sort_values(\"year\")\n",
    "    data['pct_change'] = (data['count'].pct_change()) * 100\n",
    "    return data\n",
    "\n",
    "chartData = chartData.groupby([\"cause_of_death_map\", \"sex\"]).apply(lambda x: calcRateOfChange(x)).reset_index(drop=True)\n",
    "\n",
    "alt.Chart(chartData).mark_line(\n",
    "    point=True,\n",
    "    interpolate=\"cardinal\"\n",
    ").encode(\n",
    "    x=alt.X(\"year\"),\n",
    "    y=alt.Y(\"pct_change\"),\n",
    "    color=\"sex\",\n",
    "    row=\"cause_of_death_map\"\n",
    ").properties(\n",
    "    width=800,\n",
    "    height=200\n",
    ")"
   ]
  },
  {
   "cell_type": "code",
   "execution_count": 183,
   "metadata": {},
   "outputs": [
    {
     "data": {
      "application/vnd.vegalite.v2+json": {
       "$schema": "https://vega.github.io/schema/vega-lite/v2.4.3.json",
       "config": {
        "axis": {
         "grid": false
        },
        "view": {
         "height": 300,
         "width": 400
        }
       },
       "hconcat": [
        {
         "data": {
          "values": [
           {
            "cause_of_death_map": "Dementia",
            "count": 3772,
            "pct_change": null,
            "sex": "Females",
            "year": "2008"
           },
           {
            "cause_of_death_map": "Dementia",
            "count": 3862,
            "pct_change": 2.3860021208907733,
            "sex": "Females",
            "year": "2009"
           },
           {
            "cause_of_death_map": "Dementia",
            "count": 4218,
            "pct_change": 9.218021750388395,
            "sex": "Females",
            "year": "2010"
           },
           {
            "cause_of_death_map": "Dementia",
            "count": 4548,
            "pct_change": 7.823613086770975,
            "sex": "Females",
            "year": "2011"
           },
           {
            "cause_of_death_map": "Dementia",
            "count": 4834,
            "pct_change": 6.288478452066837,
            "sex": "Females",
            "year": "2012"
           },
           {
            "cause_of_death_map": "Dementia",
            "count": 4992,
            "pct_change": 3.268514687629298,
            "sex": "Females",
            "year": "2013"
           },
           {
            "cause_of_death_map": "Dementia",
            "count": 5461,
            "pct_change": 9.395032051282048,
            "sex": "Females",
            "year": "2014"
           },
           {
            "cause_of_death_map": "Dementia",
            "count": 5671,
            "pct_change": 3.8454495513642106,
            "sex": "Females",
            "year": "2015"
           },
           {
            "cause_of_death_map": "Dementia",
            "count": 5802,
            "pct_change": 2.309998236642574,
            "sex": "Females",
            "year": "2016"
           },
           {
            "cause_of_death_map": "Dementia",
            "count": 6031,
            "pct_change": 3.946914856945871,
            "sex": "Females",
            "year": "2017"
           },
           {
            "cause_of_death_map": "Dementia",
            "count": 1916,
            "pct_change": null,
            "sex": "Males",
            "year": "2008"
           },
           {
            "cause_of_death_map": "Dementia",
            "count": 1977,
            "pct_change": 3.183716075156573,
            "sex": "Males",
            "year": "2009"
           },
           {
            "cause_of_death_map": "Dementia",
            "count": 2079,
            "pct_change": 5.159332321699539,
            "sex": "Males",
            "year": "2010"
           },
           {
            "cause_of_death_map": "Dementia",
            "count": 2329,
            "pct_change": 12.025012025012028,
            "sex": "Males",
            "year": "2011"
           },
           {
            "cause_of_death_map": "Dementia",
            "count": 2487,
            "pct_change": 6.7840274796049815,
            "sex": "Males",
            "year": "2012"
           },
           {
            "cause_of_death_map": "Dementia",
            "count": 2612,
            "pct_change": 5.026135906714924,
            "sex": "Males",
            "year": "2013"
           },
           {
            "cause_of_death_map": "Dementia",
            "count": 2871,
            "pct_change": 9.915773353751911,
            "sex": "Males",
            "year": "2014"
           },
           {
            "cause_of_death_map": "Dementia",
            "count": 3126,
            "pct_change": 8.881922675026122,
            "sex": "Males",
            "year": "2015"
           },
           {
            "cause_of_death_map": "Dementia",
            "count": 3333,
            "pct_change": 6.621880998080609,
            "sex": "Males",
            "year": "2016"
           },
           {
            "cause_of_death_map": "Dementia",
            "count": 3419,
            "pct_change": 2.580258025802573,
            "sex": "Males",
            "year": "2017"
           },
           {
            "cause_of_death_map": "Mental Disorder due to substance use",
            "count": 174,
            "pct_change": null,
            "sex": "Females",
            "year": "2008"
           },
           {
            "cause_of_death_map": "Mental Disorder due to substance use",
            "count": 140,
            "pct_change": -19.54022988505747,
            "sex": "Females",
            "year": "2009"
           },
           {
            "cause_of_death_map": "Mental Disorder due to substance use",
            "count": 200,
            "pct_change": 42.85714285714286,
            "sex": "Females",
            "year": "2010"
           },
           {
            "cause_of_death_map": "Mental Disorder due to substance use",
            "count": 180,
            "pct_change": -9.999999999999998,
            "sex": "Females",
            "year": "2011"
           },
           {
            "cause_of_death_map": "Mental Disorder due to substance use",
            "count": 174,
            "pct_change": -3.3333333333333326,
            "sex": "Females",
            "year": "2012"
           },
           {
            "cause_of_death_map": "Mental Disorder due to substance use",
            "count": 104,
            "pct_change": -40.22988505747126,
            "sex": "Females",
            "year": "2013"
           },
           {
            "cause_of_death_map": "Mental Disorder due to substance use",
            "count": 102,
            "pct_change": -1.9230769230769273,
            "sex": "Females",
            "year": "2014"
           },
           {
            "cause_of_death_map": "Mental Disorder due to substance use",
            "count": 130,
            "pct_change": 27.450980392156854,
            "sex": "Females",
            "year": "2015"
           },
           {
            "cause_of_death_map": "Mental Disorder due to substance use",
            "count": 124,
            "pct_change": -4.61538461538461,
            "sex": "Females",
            "year": "2016"
           },
           {
            "cause_of_death_map": "Mental Disorder due to substance use",
            "count": 148,
            "pct_change": 19.354838709677423,
            "sex": "Females",
            "year": "2017"
           },
           {
            "cause_of_death_map": "Mental Disorder due to substance use",
            "count": 541,
            "pct_change": null,
            "sex": "Males",
            "year": "2008"
           },
           {
            "cause_of_death_map": "Mental Disorder due to substance use",
            "count": 478,
            "pct_change": -11.645101663585955,
            "sex": "Males",
            "year": "2009"
           },
           {
            "cause_of_death_map": "Mental Disorder due to substance use",
            "count": 479,
            "pct_change": 0.20920502092049986,
            "sex": "Males",
            "year": "2010"
           },
           {
            "cause_of_death_map": "Mental Disorder due to substance use",
            "count": 483,
            "pct_change": 0.8350730688935215,
            "sex": "Males",
            "year": "2011"
           },
           {
            "cause_of_death_map": "Mental Disorder due to substance use",
            "count": 436,
            "pct_change": -9.730848861283647,
            "sex": "Males",
            "year": "2012"
           },
           {
            "cause_of_death_map": "Mental Disorder due to substance use",
            "count": 360,
            "pct_change": -17.431192660550455,
            "sex": "Males",
            "year": "2013"
           },
           {
            "cause_of_death_map": "Mental Disorder due to substance use",
            "count": 388,
            "pct_change": 7.777777777777772,
            "sex": "Males",
            "year": "2014"
           },
           {
            "cause_of_death_map": "Mental Disorder due to substance use",
            "count": 483,
            "pct_change": 24.48453608247423,
            "sex": "Males",
            "year": "2015"
           },
           {
            "cause_of_death_map": "Mental Disorder due to substance use",
            "count": 461,
            "pct_change": -4.554865424430643,
            "sex": "Males",
            "year": "2016"
           },
           {
            "cause_of_death_map": "Mental Disorder due to substance use",
            "count": 454,
            "pct_change": -1.5184381778741818,
            "sex": "Males",
            "year": "2017"
           },
           {
            "cause_of_death_map": "Symptomatic Mental Disorders",
            "count": 3815,
            "pct_change": null,
            "sex": "Females",
            "year": "2008"
           },
           {
            "cause_of_death_map": "Symptomatic Mental Disorders",
            "count": 3912,
            "pct_change": 2.542595019659233,
            "sex": "Females",
            "year": "2009"
           },
           {
            "cause_of_death_map": "Symptomatic Mental Disorders",
            "count": 4277,
            "pct_change": 9.33026584867076,
            "sex": "Females",
            "year": "2010"
           },
           {
            "cause_of_death_map": "Symptomatic Mental Disorders",
            "count": 4631,
            "pct_change": 8.276829553425301,
            "sex": "Females",
            "year": "2011"
           },
           {
            "cause_of_death_map": "Symptomatic Mental Disorders",
            "count": 4953,
            "pct_change": 6.953141870006485,
            "sex": "Females",
            "year": "2012"
           },
           {
            "cause_of_death_map": "Symptomatic Mental Disorders",
            "count": 5082,
            "pct_change": 2.604482132041186,
            "sex": "Females",
            "year": "2013"
           },
           {
            "cause_of_death_map": "Symptomatic Mental Disorders",
            "count": 5586,
            "pct_change": 9.917355371900815,
            "sex": "Females",
            "year": "2014"
           },
           {
            "cause_of_death_map": "Symptomatic Mental Disorders",
            "count": 5830,
            "pct_change": 4.368063014679557,
            "sex": "Females",
            "year": "2015"
           },
           {
            "cause_of_death_map": "Symptomatic Mental Disorders",
            "count": 5962,
            "pct_change": 2.264150943396226,
            "sex": "Females",
            "year": "2016"
           },
           {
            "cause_of_death_map": "Symptomatic Mental Disorders",
            "count": 6132,
            "pct_change": 2.851392150285137,
            "sex": "Females",
            "year": "2017"
           },
           {
            "cause_of_death_map": "Symptomatic Mental Disorders",
            "count": 1982,
            "pct_change": null,
            "sex": "Males",
            "year": "2008"
           },
           {
            "cause_of_death_map": "Symptomatic Mental Disorders",
            "count": 2052,
            "pct_change": 3.5317860746720386,
            "sex": "Males",
            "year": "2009"
           },
           {
            "cause_of_death_map": "Symptomatic Mental Disorders",
            "count": 2156,
            "pct_change": 5.068226120857711,
            "sex": "Males",
            "year": "2010"
           },
           {
            "cause_of_death_map": "Symptomatic Mental Disorders",
            "count": 2418,
            "pct_change": 12.152133580705016,
            "sex": "Males",
            "year": "2011"
           },
           {
            "cause_of_death_map": "Symptomatic Mental Disorders",
            "count": 2599,
            "pct_change": 7.48552522746071,
            "sex": "Males",
            "year": "2012"
           },
           {
            "cause_of_death_map": "Symptomatic Mental Disorders",
            "count": 2709,
            "pct_change": 4.232397075798389,
            "sex": "Males",
            "year": "2013"
           },
           {
            "cause_of_death_map": "Symptomatic Mental Disorders",
            "count": 3009,
            "pct_change": 11.074197120708739,
            "sex": "Males",
            "year": "2014"
           },
           {
            "cause_of_death_map": "Symptomatic Mental Disorders",
            "count": 3282,
            "pct_change": 9.07278165503489,
            "sex": "Males",
            "year": "2015"
           },
           {
            "cause_of_death_map": "Symptomatic Mental Disorders",
            "count": 3490,
            "pct_change": 6.337599024984764,
            "sex": "Males",
            "year": "2016"
           },
           {
            "cause_of_death_map": "Symptomatic Mental Disorders",
            "count": 3508,
            "pct_change": 0.515759312320907,
            "sex": "Males",
            "year": "2017"
           }
          ]
         },
         "encoding": {
          "color": {
           "field": "sex",
           "legend": {
            "title": "Gender"
           },
           "scale": {
            "domain": [
             "Males",
             "Females"
            ],
            "range": [
             "#4A90E2",
             "#50E3C2"
            ]
           },
           "type": "nominal"
          },
          "tooltip": [
           {
            "field": "cause_of_death_map",
            "type": "nominal"
           },
           {
            "field": "sex",
            "type": "nominal"
           },
           {
            "field": "year",
            "type": "nominal"
           },
           {
            "field": "count",
            "type": "quantitative"
           },
           {
            "field": "pct_change",
            "type": "quantitative"
           }
          ],
          "x": {
           "axis": {
            "labelAngle": 330
           },
           "field": "year",
           "title": "Year",
           "type": "nominal"
          },
          "y": {
           "field": "count",
           "title": "Number of Deaths",
           "type": "quantitative"
          }
         },
         "height": 200,
         "mark": {
          "interpolate": "cardinal",
          "point": true,
          "type": "line"
         },
         "title": "Dementia",
         "transform": [
          {
           "filter": {
            "equal": "Dementia",
            "field": "cause_of_death_map"
           }
          }
         ],
         "width": 500
        },
        {
         "data": {
          "values": [
           {
            "cause_of_death_map": "Dementia",
            "count": 3772,
            "pct_change": null,
            "sex": "Females",
            "year": "2008"
           },
           {
            "cause_of_death_map": "Dementia",
            "count": 3862,
            "pct_change": 2.3860021208907733,
            "sex": "Females",
            "year": "2009"
           },
           {
            "cause_of_death_map": "Dementia",
            "count": 4218,
            "pct_change": 9.218021750388395,
            "sex": "Females",
            "year": "2010"
           },
           {
            "cause_of_death_map": "Dementia",
            "count": 4548,
            "pct_change": 7.823613086770975,
            "sex": "Females",
            "year": "2011"
           },
           {
            "cause_of_death_map": "Dementia",
            "count": 4834,
            "pct_change": 6.288478452066837,
            "sex": "Females",
            "year": "2012"
           },
           {
            "cause_of_death_map": "Dementia",
            "count": 4992,
            "pct_change": 3.268514687629298,
            "sex": "Females",
            "year": "2013"
           },
           {
            "cause_of_death_map": "Dementia",
            "count": 5461,
            "pct_change": 9.395032051282048,
            "sex": "Females",
            "year": "2014"
           },
           {
            "cause_of_death_map": "Dementia",
            "count": 5671,
            "pct_change": 3.8454495513642106,
            "sex": "Females",
            "year": "2015"
           },
           {
            "cause_of_death_map": "Dementia",
            "count": 5802,
            "pct_change": 2.309998236642574,
            "sex": "Females",
            "year": "2016"
           },
           {
            "cause_of_death_map": "Dementia",
            "count": 6031,
            "pct_change": 3.946914856945871,
            "sex": "Females",
            "year": "2017"
           },
           {
            "cause_of_death_map": "Dementia",
            "count": 1916,
            "pct_change": null,
            "sex": "Males",
            "year": "2008"
           },
           {
            "cause_of_death_map": "Dementia",
            "count": 1977,
            "pct_change": 3.183716075156573,
            "sex": "Males",
            "year": "2009"
           },
           {
            "cause_of_death_map": "Dementia",
            "count": 2079,
            "pct_change": 5.159332321699539,
            "sex": "Males",
            "year": "2010"
           },
           {
            "cause_of_death_map": "Dementia",
            "count": 2329,
            "pct_change": 12.025012025012028,
            "sex": "Males",
            "year": "2011"
           },
           {
            "cause_of_death_map": "Dementia",
            "count": 2487,
            "pct_change": 6.7840274796049815,
            "sex": "Males",
            "year": "2012"
           },
           {
            "cause_of_death_map": "Dementia",
            "count": 2612,
            "pct_change": 5.026135906714924,
            "sex": "Males",
            "year": "2013"
           },
           {
            "cause_of_death_map": "Dementia",
            "count": 2871,
            "pct_change": 9.915773353751911,
            "sex": "Males",
            "year": "2014"
           },
           {
            "cause_of_death_map": "Dementia",
            "count": 3126,
            "pct_change": 8.881922675026122,
            "sex": "Males",
            "year": "2015"
           },
           {
            "cause_of_death_map": "Dementia",
            "count": 3333,
            "pct_change": 6.621880998080609,
            "sex": "Males",
            "year": "2016"
           },
           {
            "cause_of_death_map": "Dementia",
            "count": 3419,
            "pct_change": 2.580258025802573,
            "sex": "Males",
            "year": "2017"
           },
           {
            "cause_of_death_map": "Mental Disorder due to substance use",
            "count": 174,
            "pct_change": null,
            "sex": "Females",
            "year": "2008"
           },
           {
            "cause_of_death_map": "Mental Disorder due to substance use",
            "count": 140,
            "pct_change": -19.54022988505747,
            "sex": "Females",
            "year": "2009"
           },
           {
            "cause_of_death_map": "Mental Disorder due to substance use",
            "count": 200,
            "pct_change": 42.85714285714286,
            "sex": "Females",
            "year": "2010"
           },
           {
            "cause_of_death_map": "Mental Disorder due to substance use",
            "count": 180,
            "pct_change": -9.999999999999998,
            "sex": "Females",
            "year": "2011"
           },
           {
            "cause_of_death_map": "Mental Disorder due to substance use",
            "count": 174,
            "pct_change": -3.3333333333333326,
            "sex": "Females",
            "year": "2012"
           },
           {
            "cause_of_death_map": "Mental Disorder due to substance use",
            "count": 104,
            "pct_change": -40.22988505747126,
            "sex": "Females",
            "year": "2013"
           },
           {
            "cause_of_death_map": "Mental Disorder due to substance use",
            "count": 102,
            "pct_change": -1.9230769230769273,
            "sex": "Females",
            "year": "2014"
           },
           {
            "cause_of_death_map": "Mental Disorder due to substance use",
            "count": 130,
            "pct_change": 27.450980392156854,
            "sex": "Females",
            "year": "2015"
           },
           {
            "cause_of_death_map": "Mental Disorder due to substance use",
            "count": 124,
            "pct_change": -4.61538461538461,
            "sex": "Females",
            "year": "2016"
           },
           {
            "cause_of_death_map": "Mental Disorder due to substance use",
            "count": 148,
            "pct_change": 19.354838709677423,
            "sex": "Females",
            "year": "2017"
           },
           {
            "cause_of_death_map": "Mental Disorder due to substance use",
            "count": 541,
            "pct_change": null,
            "sex": "Males",
            "year": "2008"
           },
           {
            "cause_of_death_map": "Mental Disorder due to substance use",
            "count": 478,
            "pct_change": -11.645101663585955,
            "sex": "Males",
            "year": "2009"
           },
           {
            "cause_of_death_map": "Mental Disorder due to substance use",
            "count": 479,
            "pct_change": 0.20920502092049986,
            "sex": "Males",
            "year": "2010"
           },
           {
            "cause_of_death_map": "Mental Disorder due to substance use",
            "count": 483,
            "pct_change": 0.8350730688935215,
            "sex": "Males",
            "year": "2011"
           },
           {
            "cause_of_death_map": "Mental Disorder due to substance use",
            "count": 436,
            "pct_change": -9.730848861283647,
            "sex": "Males",
            "year": "2012"
           },
           {
            "cause_of_death_map": "Mental Disorder due to substance use",
            "count": 360,
            "pct_change": -17.431192660550455,
            "sex": "Males",
            "year": "2013"
           },
           {
            "cause_of_death_map": "Mental Disorder due to substance use",
            "count": 388,
            "pct_change": 7.777777777777772,
            "sex": "Males",
            "year": "2014"
           },
           {
            "cause_of_death_map": "Mental Disorder due to substance use",
            "count": 483,
            "pct_change": 24.48453608247423,
            "sex": "Males",
            "year": "2015"
           },
           {
            "cause_of_death_map": "Mental Disorder due to substance use",
            "count": 461,
            "pct_change": -4.554865424430643,
            "sex": "Males",
            "year": "2016"
           },
           {
            "cause_of_death_map": "Mental Disorder due to substance use",
            "count": 454,
            "pct_change": -1.5184381778741818,
            "sex": "Males",
            "year": "2017"
           },
           {
            "cause_of_death_map": "Symptomatic Mental Disorders",
            "count": 3815,
            "pct_change": null,
            "sex": "Females",
            "year": "2008"
           },
           {
            "cause_of_death_map": "Symptomatic Mental Disorders",
            "count": 3912,
            "pct_change": 2.542595019659233,
            "sex": "Females",
            "year": "2009"
           },
           {
            "cause_of_death_map": "Symptomatic Mental Disorders",
            "count": 4277,
            "pct_change": 9.33026584867076,
            "sex": "Females",
            "year": "2010"
           },
           {
            "cause_of_death_map": "Symptomatic Mental Disorders",
            "count": 4631,
            "pct_change": 8.276829553425301,
            "sex": "Females",
            "year": "2011"
           },
           {
            "cause_of_death_map": "Symptomatic Mental Disorders",
            "count": 4953,
            "pct_change": 6.953141870006485,
            "sex": "Females",
            "year": "2012"
           },
           {
            "cause_of_death_map": "Symptomatic Mental Disorders",
            "count": 5082,
            "pct_change": 2.604482132041186,
            "sex": "Females",
            "year": "2013"
           },
           {
            "cause_of_death_map": "Symptomatic Mental Disorders",
            "count": 5586,
            "pct_change": 9.917355371900815,
            "sex": "Females",
            "year": "2014"
           },
           {
            "cause_of_death_map": "Symptomatic Mental Disorders",
            "count": 5830,
            "pct_change": 4.368063014679557,
            "sex": "Females",
            "year": "2015"
           },
           {
            "cause_of_death_map": "Symptomatic Mental Disorders",
            "count": 5962,
            "pct_change": 2.264150943396226,
            "sex": "Females",
            "year": "2016"
           },
           {
            "cause_of_death_map": "Symptomatic Mental Disorders",
            "count": 6132,
            "pct_change": 2.851392150285137,
            "sex": "Females",
            "year": "2017"
           },
           {
            "cause_of_death_map": "Symptomatic Mental Disorders",
            "count": 1982,
            "pct_change": null,
            "sex": "Males",
            "year": "2008"
           },
           {
            "cause_of_death_map": "Symptomatic Mental Disorders",
            "count": 2052,
            "pct_change": 3.5317860746720386,
            "sex": "Males",
            "year": "2009"
           },
           {
            "cause_of_death_map": "Symptomatic Mental Disorders",
            "count": 2156,
            "pct_change": 5.068226120857711,
            "sex": "Males",
            "year": "2010"
           },
           {
            "cause_of_death_map": "Symptomatic Mental Disorders",
            "count": 2418,
            "pct_change": 12.152133580705016,
            "sex": "Males",
            "year": "2011"
           },
           {
            "cause_of_death_map": "Symptomatic Mental Disorders",
            "count": 2599,
            "pct_change": 7.48552522746071,
            "sex": "Males",
            "year": "2012"
           },
           {
            "cause_of_death_map": "Symptomatic Mental Disorders",
            "count": 2709,
            "pct_change": 4.232397075798389,
            "sex": "Males",
            "year": "2013"
           },
           {
            "cause_of_death_map": "Symptomatic Mental Disorders",
            "count": 3009,
            "pct_change": 11.074197120708739,
            "sex": "Males",
            "year": "2014"
           },
           {
            "cause_of_death_map": "Symptomatic Mental Disorders",
            "count": 3282,
            "pct_change": 9.07278165503489,
            "sex": "Males",
            "year": "2015"
           },
           {
            "cause_of_death_map": "Symptomatic Mental Disorders",
            "count": 3490,
            "pct_change": 6.337599024984764,
            "sex": "Males",
            "year": "2016"
           },
           {
            "cause_of_death_map": "Symptomatic Mental Disorders",
            "count": 3508,
            "pct_change": 0.515759312320907,
            "sex": "Males",
            "year": "2017"
           }
          ]
         },
         "encoding": {
          "color": {
           "field": "sex",
           "legend": {
            "title": "Gender"
           },
           "scale": {
            "domain": [
             "Males",
             "Females"
            ],
            "range": [
             "#4A90E2",
             "#50E3C2"
            ]
           },
           "type": "nominal"
          },
          "tooltip": [
           {
            "field": "cause_of_death_map",
            "type": "nominal"
           },
           {
            "field": "sex",
            "type": "nominal"
           },
           {
            "field": "year",
            "type": "nominal"
           },
           {
            "field": "count",
            "type": "quantitative"
           },
           {
            "field": "pct_change",
            "type": "quantitative"
           }
          ],
          "x": {
           "axis": {
            "labelAngle": 330
           },
           "field": "year",
           "title": "Year",
           "type": "nominal"
          },
          "y": {
           "field": "count",
           "title": "Number of Deaths",
           "type": "quantitative"
          }
         },
         "height": 200,
         "mark": {
          "interpolate": "cardinal",
          "point": true,
          "type": "line"
         },
         "title": "Symptomatic Mental Disorders",
         "transform": [
          {
           "filter": {
            "equal": "Symptomatic Mental Disorders",
            "field": "cause_of_death_map"
           }
          }
         ],
         "width": 500
        },
        {
         "data": {
          "values": [
           {
            "cause_of_death_map": "Dementia",
            "count": 3772,
            "pct_change": null,
            "sex": "Females",
            "year": "2008"
           },
           {
            "cause_of_death_map": "Dementia",
            "count": 3862,
            "pct_change": 2.3860021208907733,
            "sex": "Females",
            "year": "2009"
           },
           {
            "cause_of_death_map": "Dementia",
            "count": 4218,
            "pct_change": 9.218021750388395,
            "sex": "Females",
            "year": "2010"
           },
           {
            "cause_of_death_map": "Dementia",
            "count": 4548,
            "pct_change": 7.823613086770975,
            "sex": "Females",
            "year": "2011"
           },
           {
            "cause_of_death_map": "Dementia",
            "count": 4834,
            "pct_change": 6.288478452066837,
            "sex": "Females",
            "year": "2012"
           },
           {
            "cause_of_death_map": "Dementia",
            "count": 4992,
            "pct_change": 3.268514687629298,
            "sex": "Females",
            "year": "2013"
           },
           {
            "cause_of_death_map": "Dementia",
            "count": 5461,
            "pct_change": 9.395032051282048,
            "sex": "Females",
            "year": "2014"
           },
           {
            "cause_of_death_map": "Dementia",
            "count": 5671,
            "pct_change": 3.8454495513642106,
            "sex": "Females",
            "year": "2015"
           },
           {
            "cause_of_death_map": "Dementia",
            "count": 5802,
            "pct_change": 2.309998236642574,
            "sex": "Females",
            "year": "2016"
           },
           {
            "cause_of_death_map": "Dementia",
            "count": 6031,
            "pct_change": 3.946914856945871,
            "sex": "Females",
            "year": "2017"
           },
           {
            "cause_of_death_map": "Dementia",
            "count": 1916,
            "pct_change": null,
            "sex": "Males",
            "year": "2008"
           },
           {
            "cause_of_death_map": "Dementia",
            "count": 1977,
            "pct_change": 3.183716075156573,
            "sex": "Males",
            "year": "2009"
           },
           {
            "cause_of_death_map": "Dementia",
            "count": 2079,
            "pct_change": 5.159332321699539,
            "sex": "Males",
            "year": "2010"
           },
           {
            "cause_of_death_map": "Dementia",
            "count": 2329,
            "pct_change": 12.025012025012028,
            "sex": "Males",
            "year": "2011"
           },
           {
            "cause_of_death_map": "Dementia",
            "count": 2487,
            "pct_change": 6.7840274796049815,
            "sex": "Males",
            "year": "2012"
           },
           {
            "cause_of_death_map": "Dementia",
            "count": 2612,
            "pct_change": 5.026135906714924,
            "sex": "Males",
            "year": "2013"
           },
           {
            "cause_of_death_map": "Dementia",
            "count": 2871,
            "pct_change": 9.915773353751911,
            "sex": "Males",
            "year": "2014"
           },
           {
            "cause_of_death_map": "Dementia",
            "count": 3126,
            "pct_change": 8.881922675026122,
            "sex": "Males",
            "year": "2015"
           },
           {
            "cause_of_death_map": "Dementia",
            "count": 3333,
            "pct_change": 6.621880998080609,
            "sex": "Males",
            "year": "2016"
           },
           {
            "cause_of_death_map": "Dementia",
            "count": 3419,
            "pct_change": 2.580258025802573,
            "sex": "Males",
            "year": "2017"
           },
           {
            "cause_of_death_map": "Mental Disorder due to substance use",
            "count": 174,
            "pct_change": null,
            "sex": "Females",
            "year": "2008"
           },
           {
            "cause_of_death_map": "Mental Disorder due to substance use",
            "count": 140,
            "pct_change": -19.54022988505747,
            "sex": "Females",
            "year": "2009"
           },
           {
            "cause_of_death_map": "Mental Disorder due to substance use",
            "count": 200,
            "pct_change": 42.85714285714286,
            "sex": "Females",
            "year": "2010"
           },
           {
            "cause_of_death_map": "Mental Disorder due to substance use",
            "count": 180,
            "pct_change": -9.999999999999998,
            "sex": "Females",
            "year": "2011"
           },
           {
            "cause_of_death_map": "Mental Disorder due to substance use",
            "count": 174,
            "pct_change": -3.3333333333333326,
            "sex": "Females",
            "year": "2012"
           },
           {
            "cause_of_death_map": "Mental Disorder due to substance use",
            "count": 104,
            "pct_change": -40.22988505747126,
            "sex": "Females",
            "year": "2013"
           },
           {
            "cause_of_death_map": "Mental Disorder due to substance use",
            "count": 102,
            "pct_change": -1.9230769230769273,
            "sex": "Females",
            "year": "2014"
           },
           {
            "cause_of_death_map": "Mental Disorder due to substance use",
            "count": 130,
            "pct_change": 27.450980392156854,
            "sex": "Females",
            "year": "2015"
           },
           {
            "cause_of_death_map": "Mental Disorder due to substance use",
            "count": 124,
            "pct_change": -4.61538461538461,
            "sex": "Females",
            "year": "2016"
           },
           {
            "cause_of_death_map": "Mental Disorder due to substance use",
            "count": 148,
            "pct_change": 19.354838709677423,
            "sex": "Females",
            "year": "2017"
           },
           {
            "cause_of_death_map": "Mental Disorder due to substance use",
            "count": 541,
            "pct_change": null,
            "sex": "Males",
            "year": "2008"
           },
           {
            "cause_of_death_map": "Mental Disorder due to substance use",
            "count": 478,
            "pct_change": -11.645101663585955,
            "sex": "Males",
            "year": "2009"
           },
           {
            "cause_of_death_map": "Mental Disorder due to substance use",
            "count": 479,
            "pct_change": 0.20920502092049986,
            "sex": "Males",
            "year": "2010"
           },
           {
            "cause_of_death_map": "Mental Disorder due to substance use",
            "count": 483,
            "pct_change": 0.8350730688935215,
            "sex": "Males",
            "year": "2011"
           },
           {
            "cause_of_death_map": "Mental Disorder due to substance use",
            "count": 436,
            "pct_change": -9.730848861283647,
            "sex": "Males",
            "year": "2012"
           },
           {
            "cause_of_death_map": "Mental Disorder due to substance use",
            "count": 360,
            "pct_change": -17.431192660550455,
            "sex": "Males",
            "year": "2013"
           },
           {
            "cause_of_death_map": "Mental Disorder due to substance use",
            "count": 388,
            "pct_change": 7.777777777777772,
            "sex": "Males",
            "year": "2014"
           },
           {
            "cause_of_death_map": "Mental Disorder due to substance use",
            "count": 483,
            "pct_change": 24.48453608247423,
            "sex": "Males",
            "year": "2015"
           },
           {
            "cause_of_death_map": "Mental Disorder due to substance use",
            "count": 461,
            "pct_change": -4.554865424430643,
            "sex": "Males",
            "year": "2016"
           },
           {
            "cause_of_death_map": "Mental Disorder due to substance use",
            "count": 454,
            "pct_change": -1.5184381778741818,
            "sex": "Males",
            "year": "2017"
           },
           {
            "cause_of_death_map": "Symptomatic Mental Disorders",
            "count": 3815,
            "pct_change": null,
            "sex": "Females",
            "year": "2008"
           },
           {
            "cause_of_death_map": "Symptomatic Mental Disorders",
            "count": 3912,
            "pct_change": 2.542595019659233,
            "sex": "Females",
            "year": "2009"
           },
           {
            "cause_of_death_map": "Symptomatic Mental Disorders",
            "count": 4277,
            "pct_change": 9.33026584867076,
            "sex": "Females",
            "year": "2010"
           },
           {
            "cause_of_death_map": "Symptomatic Mental Disorders",
            "count": 4631,
            "pct_change": 8.276829553425301,
            "sex": "Females",
            "year": "2011"
           },
           {
            "cause_of_death_map": "Symptomatic Mental Disorders",
            "count": 4953,
            "pct_change": 6.953141870006485,
            "sex": "Females",
            "year": "2012"
           },
           {
            "cause_of_death_map": "Symptomatic Mental Disorders",
            "count": 5082,
            "pct_change": 2.604482132041186,
            "sex": "Females",
            "year": "2013"
           },
           {
            "cause_of_death_map": "Symptomatic Mental Disorders",
            "count": 5586,
            "pct_change": 9.917355371900815,
            "sex": "Females",
            "year": "2014"
           },
           {
            "cause_of_death_map": "Symptomatic Mental Disorders",
            "count": 5830,
            "pct_change": 4.368063014679557,
            "sex": "Females",
            "year": "2015"
           },
           {
            "cause_of_death_map": "Symptomatic Mental Disorders",
            "count": 5962,
            "pct_change": 2.264150943396226,
            "sex": "Females",
            "year": "2016"
           },
           {
            "cause_of_death_map": "Symptomatic Mental Disorders",
            "count": 6132,
            "pct_change": 2.851392150285137,
            "sex": "Females",
            "year": "2017"
           },
           {
            "cause_of_death_map": "Symptomatic Mental Disorders",
            "count": 1982,
            "pct_change": null,
            "sex": "Males",
            "year": "2008"
           },
           {
            "cause_of_death_map": "Symptomatic Mental Disorders",
            "count": 2052,
            "pct_change": 3.5317860746720386,
            "sex": "Males",
            "year": "2009"
           },
           {
            "cause_of_death_map": "Symptomatic Mental Disorders",
            "count": 2156,
            "pct_change": 5.068226120857711,
            "sex": "Males",
            "year": "2010"
           },
           {
            "cause_of_death_map": "Symptomatic Mental Disorders",
            "count": 2418,
            "pct_change": 12.152133580705016,
            "sex": "Males",
            "year": "2011"
           },
           {
            "cause_of_death_map": "Symptomatic Mental Disorders",
            "count": 2599,
            "pct_change": 7.48552522746071,
            "sex": "Males",
            "year": "2012"
           },
           {
            "cause_of_death_map": "Symptomatic Mental Disorders",
            "count": 2709,
            "pct_change": 4.232397075798389,
            "sex": "Males",
            "year": "2013"
           },
           {
            "cause_of_death_map": "Symptomatic Mental Disorders",
            "count": 3009,
            "pct_change": 11.074197120708739,
            "sex": "Males",
            "year": "2014"
           },
           {
            "cause_of_death_map": "Symptomatic Mental Disorders",
            "count": 3282,
            "pct_change": 9.07278165503489,
            "sex": "Males",
            "year": "2015"
           },
           {
            "cause_of_death_map": "Symptomatic Mental Disorders",
            "count": 3490,
            "pct_change": 6.337599024984764,
            "sex": "Males",
            "year": "2016"
           },
           {
            "cause_of_death_map": "Symptomatic Mental Disorders",
            "count": 3508,
            "pct_change": 0.515759312320907,
            "sex": "Males",
            "year": "2017"
           }
          ]
         },
         "encoding": {
          "color": {
           "field": "sex",
           "legend": {
            "title": "Gender"
           },
           "scale": {
            "domain": [
             "Males",
             "Females"
            ],
            "range": [
             "#4A90E2",
             "#50E3C2"
            ]
           },
           "type": "nominal"
          },
          "tooltip": [
           {
            "field": "cause_of_death_map",
            "type": "nominal"
           },
           {
            "field": "sex",
            "type": "nominal"
           },
           {
            "field": "year",
            "type": "nominal"
           },
           {
            "field": "count",
            "type": "quantitative"
           },
           {
            "field": "pct_change",
            "type": "quantitative"
           }
          ],
          "x": {
           "axis": {
            "labelAngle": 330
           },
           "field": "year",
           "title": "Year",
           "type": "nominal"
          },
          "y": {
           "field": "count",
           "title": "Number of Deaths",
           "type": "quantitative"
          }
         },
         "height": 200,
         "mark": {
          "interpolate": "cardinal",
          "point": true,
          "type": "line"
         },
         "title": "Mental Disorder due to substance use",
         "transform": [
          {
           "filter": {
            "equal": "Mental Disorder due to substance use",
            "field": "cause_of_death_map"
           }
          }
         ],
         "width": 500
        }
       ]
      },
      "image/png": "[encoded data removed]",
      "text/plain": [
       "<VegaLite 2 object>\n",
       "\n",
       "If you see this message, it means the renderer has not been properly enabled\n",
       "for the frontend that you are using. For more information, see\n",
       "https://altair-viz.github.io/user_guide/troubleshooting.html\n"
      ]
     },
     "execution_count": 183,
     "metadata": {},
     "output_type": "execute_result"
    }
   ],
   "source": [
    "colorScale = alt.Scale(\n",
    "    domain=['Males', 'Females'],\n",
    "    range=['#4A90E2', '#50E3C2']\n",
    ")\n",
    "\n",
    "base = alt.Chart(chartData).mark_line(\n",
    "    point=True,\n",
    "    interpolate=\"cardinal\"\n",
    ").encode(\n",
    "    x=alt.X(\"year\", type=\"nominal\", axis=alt.Axis(labelAngle=330), title=\"Year\"),\n",
    "    y=alt.Y(\"count\", title=\"Number of Deaths\"),\n",
    "    tooltip=chartData.columns.tolist(),\n",
    "    color=alt.Color(\"sex\", scale=colorScale, legend=alt.Legend(title=\"Gender\"))\n",
    ").properties(\n",
    "    width=500,\n",
    "    height=200\n",
    ")\n",
    "\n",
    "one = base.transform_filter(\n",
    "    alt.FieldEqualPredicate(field='cause_of_death_map', equal='Dementia')\n",
    ").properties(\n",
    "    title='Dementia'\n",
    ")\n",
    "\n",
    "two = base.transform_filter(\n",
    "    alt.FieldEqualPredicate(field='cause_of_death_map', equal='Mental Disorder due to substance use')\n",
    ").properties(\n",
    "    title='Mental Disorder due to substance use'\n",
    ")\n",
    "\n",
    "three = base.transform_filter(\n",
    "    alt.FieldEqualPredicate(field='cause_of_death_map', equal='Symptomatic Mental Disorders')\n",
    ").properties(\n",
    "    title='Symptomatic Mental Disorders'\n",
    ")\n",
    "\n",
    "alt.hconcat(one, three, two).configure(\n",
    "    axis=alt.Axis(grid=False)\n",
    ")"
   ]
  },
  {
   "cell_type": "code",
   "execution_count": 184,
   "metadata": {},
   "outputs": [
    {
     "data": {
      "text/html": [
       "<div>\n",
       "<style scoped>\n",
       "    .dataframe tbody tr th:only-of-type {\n",
       "        vertical-align: middle;\n",
       "    }\n",
       "\n",
       "    .dataframe tbody tr th {\n",
       "        vertical-align: top;\n",
       "    }\n",
       "\n",
       "    .dataframe thead th {\n",
       "        text-align: right;\n",
       "    }\n",
       "</style>\n",
       "<table border=\"1\" class=\"dataframe\">\n",
       "  <thead>\n",
       "    <tr style=\"text-align: right;\">\n",
       "      <th></th>\n",
       "      <th>cause_of_death_map</th>\n",
       "      <th>sex</th>\n",
       "      <th>pct_change</th>\n",
       "    </tr>\n",
       "  </thead>\n",
       "  <tbody>\n",
       "    <tr>\n",
       "      <th>1</th>\n",
       "      <td>Dementia</td>\n",
       "      <td>Females</td>\n",
       "      <td>59.888653</td>\n",
       "    </tr>\n",
       "    <tr>\n",
       "      <th>3</th>\n",
       "      <td>Dementia</td>\n",
       "      <td>Males</td>\n",
       "      <td>78.444676</td>\n",
       "    </tr>\n",
       "    <tr>\n",
       "      <th>5</th>\n",
       "      <td>Mental Disorder due to substance use</td>\n",
       "      <td>Females</td>\n",
       "      <td>-14.942529</td>\n",
       "    </tr>\n",
       "    <tr>\n",
       "      <th>7</th>\n",
       "      <td>Mental Disorder due to substance use</td>\n",
       "      <td>Males</td>\n",
       "      <td>-16.081331</td>\n",
       "    </tr>\n",
       "    <tr>\n",
       "      <th>9</th>\n",
       "      <td>Symptomatic Mental Disorders</td>\n",
       "      <td>Females</td>\n",
       "      <td>60.733945</td>\n",
       "    </tr>\n",
       "    <tr>\n",
       "      <th>11</th>\n",
       "      <td>Symptomatic Mental Disorders</td>\n",
       "      <td>Males</td>\n",
       "      <td>76.992936</td>\n",
       "    </tr>\n",
       "  </tbody>\n",
       "</table>\n",
       "</div>"
      ],
      "text/plain": [
       "                      cause_of_death_map      sex  pct_change\n",
       "1                               Dementia  Females   59.888653\n",
       "3                               Dementia    Males   78.444676\n",
       "5   Mental Disorder due to substance use  Females  -14.942529\n",
       "7   Mental Disorder due to substance use    Males  -16.081331\n",
       "9           Symptomatic Mental Disorders  Females   60.733945\n",
       "11          Symptomatic Mental Disorders    Males   76.992936"
      ]
     },
     "execution_count": 184,
     "metadata": {},
     "output_type": "execute_result"
    }
   ],
   "source": [
    "chartData[chartData['year'].isin(['2008', '2017'])].groupby(['cause_of_death_map', 'sex']).apply(lambda x: calcRateOfChange(x)).reset_index(drop=True).dropna()[['cause_of_death_map', 'sex', 'pct_change']]"
   ]
  },
  {
   "cell_type": "markdown",
   "metadata": {},
   "source": [
    "### A look at External causes of morbidity and mortality"
   ]
  },
  {
   "cell_type": "code",
   "execution_count": 263,
   "metadata": {},
   "outputs": [
    {
     "data": {
      "text/html": [
       "<div>\n",
       "<style scoped>\n",
       "    .dataframe tbody tr th:only-of-type {\n",
       "        vertical-align: middle;\n",
       "    }\n",
       "\n",
       "    .dataframe tbody tr th {\n",
       "        vertical-align: top;\n",
       "    }\n",
       "\n",
       "    .dataframe thead th {\n",
       "        text-align: right;\n",
       "    }\n",
       "</style>\n",
       "<table border=\"1\" class=\"dataframe\">\n",
       "  <thead>\n",
       "    <tr style=\"text-align: right;\">\n",
       "      <th></th>\n",
       "      <th>cause_of_death</th>\n",
       "      <th>chapter</th>\n",
       "      <th>count</th>\n",
       "      <th>year</th>\n",
       "      <th>sex</th>\n",
       "      <th>cause_of_death_map</th>\n",
       "    </tr>\n",
       "  </thead>\n",
       "  <tbody>\n",
       "    <tr>\n",
       "      <th>1510</th>\n",
       "      <td>Transport accidents</td>\n",
       "      <td>External causes of morbidity and mortality</td>\n",
       "      <td>1205</td>\n",
       "      <td>2008</td>\n",
       "      <td>Males</td>\n",
       "      <td>Transport Accidents</td>\n",
       "    </tr>\n",
       "    <tr>\n",
       "      <th>1511</th>\n",
       "      <td>Pedestrian injured in transport accident</td>\n",
       "      <td>External causes of morbidity and mortality</td>\n",
       "      <td>160</td>\n",
       "      <td>2008</td>\n",
       "      <td>Males</td>\n",
       "      <td>NaN</td>\n",
       "    </tr>\n",
       "    <tr>\n",
       "      <th>1512</th>\n",
       "      <td>Pedestrian injured in collision with pedal cycle</td>\n",
       "      <td>External causes of morbidity and mortality</td>\n",
       "      <td>1</td>\n",
       "      <td>2008</td>\n",
       "      <td>Males</td>\n",
       "      <td>NaN</td>\n",
       "    </tr>\n",
       "    <tr>\n",
       "      <th>1513</th>\n",
       "      <td>Pedestrian injured in collision with two- or t...</td>\n",
       "      <td>External causes of morbidity and mortality</td>\n",
       "      <td>3</td>\n",
       "      <td>2008</td>\n",
       "      <td>Males</td>\n",
       "      <td>NaN</td>\n",
       "    </tr>\n",
       "    <tr>\n",
       "      <th>1514</th>\n",
       "      <td>Pedestrian injured in collision with car, pick...</td>\n",
       "      <td>External causes of morbidity and mortality</td>\n",
       "      <td>113</td>\n",
       "      <td>2008</td>\n",
       "      <td>Males</td>\n",
       "      <td>NaN</td>\n",
       "    </tr>\n",
       "  </tbody>\n",
       "</table>\n",
       "</div>"
      ],
      "text/plain": [
       "                                         cause_of_death  \\\n",
       "1510                                Transport accidents   \n",
       "1511           Pedestrian injured in transport accident   \n",
       "1512   Pedestrian injured in collision with pedal cycle   \n",
       "1513  Pedestrian injured in collision with two- or t...   \n",
       "1514  Pedestrian injured in collision with car, pick...   \n",
       "\n",
       "                                         chapter  count  year    sex  \\\n",
       "1510  External causes of morbidity and mortality   1205  2008  Males   \n",
       "1511  External causes of morbidity and mortality    160  2008  Males   \n",
       "1512  External causes of morbidity and mortality      1  2008  Males   \n",
       "1513  External causes of morbidity and mortality      3  2008  Males   \n",
       "1514  External causes of morbidity and mortality    113  2008  Males   \n",
       "\n",
       "       cause_of_death_map  \n",
       "1510  Transport Accidents  \n",
       "1511                  NaN  \n",
       "1512                  NaN  \n",
       "1513                  NaN  \n",
       "1514                  NaN  "
      ]
     },
     "execution_count": 263,
     "metadata": {},
     "output_type": "execute_result"
    }
   ],
   "source": [
    "ed = data_tidy[data_tidy['chapter'] == 'External causes of morbidity and mortality']\n",
    "ed.head()"
   ]
  },
  {
   "cell_type": "code",
   "execution_count": 264,
   "metadata": {},
   "outputs": [
    {
     "data": {
      "application/vnd.vegalite.v2+json": {
       "$schema": "https://vega.github.io/schema/vega-lite/v2.4.3.json",
       "config": {
        "view": {
         "height": 300,
         "width": 400
        }
       },
       "data": {
        "values": [
         {
          "cause_of_death_map": "Other",
          "count": 86111
         },
         {
          "cause_of_death_map": "Suicide",
          "count": 41373
         },
         {
          "cause_of_death_map": "Falls",
          "count": 34471
         },
         {
          "cause_of_death_map": "Transport Accidents",
          "count": 22824
         },
         {
          "cause_of_death_map": "Accidental Poisoning",
          "count": 11180
         }
        ]
       },
       "encoding": {
        "tooltip": [
         {
          "field": "cause_of_death_map",
          "type": "nominal"
         },
         {
          "field": "count",
          "type": "quantitative"
         }
        ],
        "x": {
         "field": "count",
         "type": "quantitative"
        },
        "y": {
         "field": "cause_of_death_map",
         "sort": {
          "field": "count",
          "op": "sum",
          "order": "descending"
         },
         "type": "nominal"
        }
       },
       "height": 400,
       "mark": {
        "color": "orange",
        "type": "bar"
       },
       "width": 800
      },
      "image/png": "[encoded data removed]",
      "text/plain": [
       "<VegaLite 2 object>\n",
       "\n",
       "If you see this message, it means the renderer has not been properly enabled\n",
       "for the frontend that you are using. For more information, see\n",
       "https://altair-viz.github.io/user_guide/troubleshooting.html\n"
      ]
     },
     "execution_count": 264,
     "metadata": {},
     "output_type": "execute_result"
    }
   ],
   "source": [
    "causeCounts = ed.groupby(\"cause_of_death_map\").agg({\"count\": \"sum\"}).reset_index().sort_values(\"count\", ascending=False).head(10)\n",
    "\n",
    "alt.Chart(causeCounts).mark_bar(color=\"orange\").encode(\n",
    "    y=alt.Y(\"cause_of_death_map\", sort=alt.SortField(\"sum\", \"count\", order=\"descending\")),\n",
    "    x=alt.X(\"count\"),\n",
    "    tooltip=causeCounts.columns.tolist()\n",
    ").properties(\n",
    "    width=800,\n",
    "    height=400\n",
    ")"
   ]
  },
  {
   "cell_type": "code",
   "execution_count": 273,
   "metadata": {},
   "outputs": [
    {
     "data": {
      "text/html": [
       "<div>\n",
       "<style scoped>\n",
       "    .dataframe tbody tr th:only-of-type {\n",
       "        vertical-align: middle;\n",
       "    }\n",
       "\n",
       "    .dataframe tbody tr th {\n",
       "        vertical-align: top;\n",
       "    }\n",
       "\n",
       "    .dataframe thead th {\n",
       "        text-align: right;\n",
       "    }\n",
       "</style>\n",
       "<table border=\"1\" class=\"dataframe\">\n",
       "  <thead>\n",
       "    <tr style=\"text-align: right;\">\n",
       "      <th></th>\n",
       "      <th>cause_of_death_map</th>\n",
       "      <th>sex</th>\n",
       "      <th>year</th>\n",
       "      <th>count</th>\n",
       "    </tr>\n",
       "  </thead>\n",
       "  <tbody>\n",
       "    <tr>\n",
       "      <th>59</th>\n",
       "      <td>Other</td>\n",
       "      <td>Males</td>\n",
       "      <td>2017</td>\n",
       "      <td>6050</td>\n",
       "    </tr>\n",
       "    <tr>\n",
       "      <th>58</th>\n",
       "      <td>Other</td>\n",
       "      <td>Males</td>\n",
       "      <td>2016</td>\n",
       "      <td>5997</td>\n",
       "    </tr>\n",
       "    <tr>\n",
       "      <th>57</th>\n",
       "      <td>Other</td>\n",
       "      <td>Males</td>\n",
       "      <td>2015</td>\n",
       "      <td>5887</td>\n",
       "    </tr>\n",
       "    <tr>\n",
       "      <th>56</th>\n",
       "      <td>Other</td>\n",
       "      <td>Males</td>\n",
       "      <td>2014</td>\n",
       "      <td>5520</td>\n",
       "    </tr>\n",
       "    <tr>\n",
       "      <th>54</th>\n",
       "      <td>Other</td>\n",
       "      <td>Males</td>\n",
       "      <td>2012</td>\n",
       "      <td>4906</td>\n",
       "    </tr>\n",
       "  </tbody>\n",
       "</table>\n",
       "</div>"
      ],
      "text/plain": [
       "   cause_of_death_map    sex  year  count\n",
       "59              Other  Males  2017   6050\n",
       "58              Other  Males  2016   5997\n",
       "57              Other  Males  2015   5887\n",
       "56              Other  Males  2014   5520\n",
       "54              Other  Males  2012   4906"
      ]
     },
     "execution_count": 273,
     "metadata": {},
     "output_type": "execute_result"
    }
   ],
   "source": [
    "causeCounts = ed.groupby([\"cause_of_death_map\", \"sex\", \"year\"]).agg({\"count\": \"sum\"}).reset_index().sort_values(\"count\", ascending=False)\n",
    "\n",
    "causeCounts.head()"
   ]
  },
  {
   "cell_type": "code",
   "execution_count": 187,
   "metadata": {},
   "outputs": [
    {
     "data": {
      "text/plain": [
       "['Other external causes of accidental injury',\n",
       " 'Other external causes of mortality',\n",
       " 'Intentional self-harm',\n",
       " 'Falls',\n",
       " 'Transport accidents',\n",
       " 'Intentional self-harm by hanging, strangulation and suffocation',\n",
       " 'Unspecified fall',\n",
       " 'Accidental poisoning by and exposure to noxious substances',\n",
       " 'Car occupant injured in transport accident',\n",
       " 'Accidental exposure to other and unspecified factors']"
      ]
     },
     "execution_count": 187,
     "metadata": {},
     "output_type": "execute_result"
    }
   ],
   "source": [
    "causeCounts.cause_of_death.unique().tolist()"
   ]
  },
  {
   "cell_type": "code",
   "execution_count": null,
   "metadata": {},
   "outputs": [],
   "source": [
    "causeCounts[causeCounts['year'].isin(['2008', '2017'])].groupby(['cause_of_death_map', 'sex']).apply(lambda x: calcRateOfChange(x)).reset_index(drop=True).dropna()[['cause_of_death_map', 'sex', 'pct_change']]"
   ]
  },
  {
   "cell_type": "code",
   "execution_count": null,
   "metadata": {},
   "outputs": [],
   "source": []
  }
 ],
 "metadata": {
  "kernelspec": {
   "display_name": "Python 3",
   "language": "python",
   "name": "python3"
  },
  "language_info": {
   "codemirror_mode": {
    "name": "ipython",
    "version": 3
   },
   "file_extension": ".py",
   "mimetype": "text/x-python",
   "name": "python",
   "nbconvert_exporter": "python",
   "pygments_lexer": "ipython3",
   "version": "3.7.0"
  }
 },
 "nbformat": 4,
 "nbformat_minor": 2
}
